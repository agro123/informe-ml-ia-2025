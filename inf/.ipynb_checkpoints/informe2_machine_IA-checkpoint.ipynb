{
 "cells": [
  {
   "cell_type": "markdown",
   "metadata": {},
   "source": [
    "# Informe 2 Arboles de desición"
   ]
  },
  {
   "cell_type": "code",
   "execution_count": 2,
   "metadata": {
    "id": "CJbucJgpmm16"
   },
   "outputs": [],
   "source": [
    "import sklearn\n",
    "import numpy as np\n",
    "import pandas as pd\n",
    "import warnings\n",
    "warnings.filterwarnings('ignore')"
   ]
  },
  {
   "cell_type": "markdown",
   "metadata": {},
   "source": [
    "1. Leer el archivo depression.csv"
   ]
  },
  {
   "cell_type": "code",
   "execution_count": 3,
   "metadata": {},
   "outputs": [],
   "source": [
    "datos = pd.read_csv('depression.csv')"
   ]
  },
  {
   "cell_type": "code",
   "execution_count": 4,
   "metadata": {
    "colab": {
     "base_uri": "https://localhost:8080/",
     "height": 175
    },
    "id": "yte5P_CQFVfQ",
    "outputId": "0c4911ee-de9d-4715-a095-e98bab6c5704"
   },
   "outputs": [
    {
     "data": {
      "text/html": [
       "<div>\n",
       "<style scoped>\n",
       "    .dataframe tbody tr th:only-of-type {\n",
       "        vertical-align: middle;\n",
       "    }\n",
       "\n",
       "    .dataframe tbody tr th {\n",
       "        vertical-align: top;\n",
       "    }\n",
       "\n",
       "    .dataframe thead th {\n",
       "        text-align: right;\n",
       "    }\n",
       "</style>\n",
       "<table border=\"1\" class=\"dataframe\">\n",
       "  <thead>\n",
       "    <tr style=\"text-align: right;\">\n",
       "      <th></th>\n",
       "      <th>Gender</th>\n",
       "      <th>Sleep Duration</th>\n",
       "      <th>Degree</th>\n",
       "      <th>Suicidal Thoughts</th>\n",
       "      <th>Family History of Mental Illness</th>\n",
       "    </tr>\n",
       "  </thead>\n",
       "  <tbody>\n",
       "    <tr>\n",
       "      <th>count</th>\n",
       "      <td>27901</td>\n",
       "      <td>27901</td>\n",
       "      <td>27901</td>\n",
       "      <td>27901</td>\n",
       "      <td>27901</td>\n",
       "    </tr>\n",
       "    <tr>\n",
       "      <th>unique</th>\n",
       "      <td>2</td>\n",
       "      <td>5</td>\n",
       "      <td>5</td>\n",
       "      <td>2</td>\n",
       "      <td>2</td>\n",
       "    </tr>\n",
       "    <tr>\n",
       "      <th>top</th>\n",
       "      <td>Male</td>\n",
       "      <td>Less than 5 hours</td>\n",
       "      <td>Undergraduate</td>\n",
       "      <td>Yes</td>\n",
       "      <td>No</td>\n",
       "    </tr>\n",
       "    <tr>\n",
       "      <th>freq</th>\n",
       "      <td>15547</td>\n",
       "      <td>8310</td>\n",
       "      <td>12639</td>\n",
       "      <td>17656</td>\n",
       "      <td>14398</td>\n",
       "    </tr>\n",
       "  </tbody>\n",
       "</table>\n",
       "</div>"
      ],
      "text/plain": [
       "       Gender     Sleep Duration         Degree Suicidal Thoughts  \\\n",
       "count   27901              27901          27901             27901   \n",
       "unique      2                  5              5                 2   \n",
       "top      Male  Less than 5 hours  Undergraduate               Yes   \n",
       "freq    15547               8310          12639             17656   \n",
       "\n",
       "       Family History of Mental Illness  \n",
       "count                             27901  \n",
       "unique                                2  \n",
       "top                                  No  \n",
       "freq                              14398  "
      ]
     },
     "execution_count": 4,
     "metadata": {},
     "output_type": "execute_result"
    }
   ],
   "source": [
    "# Variables categóricas (tipo object)\n",
    "# ==============================================================================\n",
    "datos.select_dtypes(include=['object']).describe()"
   ]
  },
  {
   "cell_type": "code",
   "execution_count": 5,
   "metadata": {
    "colab": {
     "base_uri": "https://localhost:8080/",
     "height": 300
    },
    "id": "5ELB4JMSFZgy",
    "outputId": "334a3714-cb69-4dd9-93c3-d0ad7efd8452"
   },
   "outputs": [
    {
     "data": {
      "text/html": [
       "<div>\n",
       "<style scoped>\n",
       "    .dataframe tbody tr th:only-of-type {\n",
       "        vertical-align: middle;\n",
       "    }\n",
       "\n",
       "    .dataframe tbody tr th {\n",
       "        vertical-align: top;\n",
       "    }\n",
       "\n",
       "    .dataframe thead th {\n",
       "        text-align: right;\n",
       "    }\n",
       "</style>\n",
       "<table border=\"1\" class=\"dataframe\">\n",
       "  <thead>\n",
       "    <tr style=\"text-align: right;\">\n",
       "      <th></th>\n",
       "      <th>Depression</th>\n",
       "    </tr>\n",
       "  </thead>\n",
       "  <tbody>\n",
       "    <tr>\n",
       "      <th>count</th>\n",
       "      <td>27901.000000</td>\n",
       "    </tr>\n",
       "    <tr>\n",
       "      <th>mean</th>\n",
       "      <td>0.585499</td>\n",
       "    </tr>\n",
       "    <tr>\n",
       "      <th>std</th>\n",
       "      <td>0.492645</td>\n",
       "    </tr>\n",
       "    <tr>\n",
       "      <th>min</th>\n",
       "      <td>0.000000</td>\n",
       "    </tr>\n",
       "    <tr>\n",
       "      <th>25%</th>\n",
       "      <td>0.000000</td>\n",
       "    </tr>\n",
       "    <tr>\n",
       "      <th>50%</th>\n",
       "      <td>1.000000</td>\n",
       "    </tr>\n",
       "    <tr>\n",
       "      <th>75%</th>\n",
       "      <td>1.000000</td>\n",
       "    </tr>\n",
       "    <tr>\n",
       "      <th>max</th>\n",
       "      <td>1.000000</td>\n",
       "    </tr>\n",
       "  </tbody>\n",
       "</table>\n",
       "</div>"
      ],
      "text/plain": [
       "         Depression\n",
       "count  27901.000000\n",
       "mean       0.585499\n",
       "std        0.492645\n",
       "min        0.000000\n",
       "25%        0.000000\n",
       "50%        1.000000\n",
       "75%        1.000000\n",
       "max        1.000000"
      ]
     },
     "execution_count": 5,
     "metadata": {},
     "output_type": "execute_result"
    }
   ],
   "source": [
    "# Variables cuantitativas (tipo entero)\n",
    "# ==============================================================================\n",
    "datos.select_dtypes(include=['int64']).describe()"
   ]
  },
  {
   "cell_type": "code",
   "execution_count": 6,
   "metadata": {
    "colab": {
     "base_uri": "https://localhost:8080/",
     "height": 300
    },
    "id": "YuQRxSUFGnaD",
    "outputId": "804824b9-08b5-4ab8-afb0-a50aa28fd029"
   },
   "outputs": [
    {
     "data": {
      "text/html": [
       "<div>\n",
       "<style scoped>\n",
       "    .dataframe tbody tr th:only-of-type {\n",
       "        vertical-align: middle;\n",
       "    }\n",
       "\n",
       "    .dataframe tbody tr th {\n",
       "        vertical-align: top;\n",
       "    }\n",
       "\n",
       "    .dataframe thead th {\n",
       "        text-align: right;\n",
       "    }\n",
       "</style>\n",
       "<table border=\"1\" class=\"dataframe\">\n",
       "  <thead>\n",
       "    <tr style=\"text-align: right;\">\n",
       "      <th></th>\n",
       "      <th>Age</th>\n",
       "      <th>CGPA</th>\n",
       "      <th>Work/Study Hours</th>\n",
       "    </tr>\n",
       "  </thead>\n",
       "  <tbody>\n",
       "    <tr>\n",
       "      <th>count</th>\n",
       "      <td>27901.000000</td>\n",
       "      <td>27901.000000</td>\n",
       "      <td>27901.000000</td>\n",
       "    </tr>\n",
       "    <tr>\n",
       "      <th>mean</th>\n",
       "      <td>25.822300</td>\n",
       "      <td>7.656104</td>\n",
       "      <td>7.156984</td>\n",
       "    </tr>\n",
       "    <tr>\n",
       "      <th>std</th>\n",
       "      <td>4.905687</td>\n",
       "      <td>1.470707</td>\n",
       "      <td>3.707642</td>\n",
       "    </tr>\n",
       "    <tr>\n",
       "      <th>min</th>\n",
       "      <td>18.000000</td>\n",
       "      <td>0.000000</td>\n",
       "      <td>0.000000</td>\n",
       "    </tr>\n",
       "    <tr>\n",
       "      <th>25%</th>\n",
       "      <td>21.000000</td>\n",
       "      <td>6.290000</td>\n",
       "      <td>4.000000</td>\n",
       "    </tr>\n",
       "    <tr>\n",
       "      <th>50%</th>\n",
       "      <td>25.000000</td>\n",
       "      <td>7.770000</td>\n",
       "      <td>8.000000</td>\n",
       "    </tr>\n",
       "    <tr>\n",
       "      <th>75%</th>\n",
       "      <td>30.000000</td>\n",
       "      <td>8.920000</td>\n",
       "      <td>10.000000</td>\n",
       "    </tr>\n",
       "    <tr>\n",
       "      <th>max</th>\n",
       "      <td>59.000000</td>\n",
       "      <td>10.000000</td>\n",
       "      <td>12.000000</td>\n",
       "    </tr>\n",
       "  </tbody>\n",
       "</table>\n",
       "</div>"
      ],
      "text/plain": [
       "                Age          CGPA  Work/Study Hours\n",
       "count  27901.000000  27901.000000      27901.000000\n",
       "mean      25.822300      7.656104          7.156984\n",
       "std        4.905687      1.470707          3.707642\n",
       "min       18.000000      0.000000          0.000000\n",
       "25%       21.000000      6.290000          4.000000\n",
       "50%       25.000000      7.770000          8.000000\n",
       "75%       30.000000      8.920000         10.000000\n",
       "max       59.000000     10.000000         12.000000"
      ]
     },
     "execution_count": 6,
     "metadata": {},
     "output_type": "execute_result"
    }
   ],
   "source": [
    "# Variables cuantitativas (tipo float)\n",
    "# ==============================================================================\n",
    "datos.select_dtypes(include=['float64']).describe()"
   ]
  },
  {
   "cell_type": "markdown",
   "metadata": {},
   "source": [
    "2. Seleccionar aleatoriamente el 80% del conjunto de datos para entrenar y el 20% restante para las\n",
    "pruebas"
   ]
  },
  {
   "cell_type": "code",
   "execution_count": 7,
   "metadata": {
    "colab": {
     "base_uri": "https://localhost:8080/"
    },
    "id": "z7iRoGHOG7F7",
    "outputId": "bacdc23b-cf3b-4717-9b0e-a4378451405c"
   },
   "outputs": [
    {
     "name": "stdout",
     "output_type": "stream",
     "text": [
      "27901 22320 5581\n"
     ]
    }
   ],
   "source": [
    "from sklearn.model_selection import train_test_split\n",
    "\n",
    "N=len(datos)\n",
    "cTrain=int(N*0.8) # 80% para entrenar y 20% para probar\n",
    "cTest=N-cTrain\n",
    "print(N,cTrain,cTest)\n",
    "train_data,test_data= sklearn.model_selection.train_test_split(datos, train_size=cTrain, test_size=cTest)"
   ]
  },
  {
   "cell_type": "code",
   "execution_count": 8,
   "metadata": {},
   "outputs": [
    {
     "data": {
      "text/plain": [
       "(22320, 9)"
      ]
     },
     "execution_count": 8,
     "metadata": {},
     "output_type": "execute_result"
    }
   ],
   "source": [
    "train_data.shape"
   ]
  },
  {
   "cell_type": "code",
   "execution_count": 126,
   "metadata": {},
   "outputs": [
    {
     "data": {
      "text/html": [
       "<div>\n",
       "<style scoped>\n",
       "    .dataframe tbody tr th:only-of-type {\n",
       "        vertical-align: middle;\n",
       "    }\n",
       "\n",
       "    .dataframe tbody tr th {\n",
       "        vertical-align: top;\n",
       "    }\n",
       "\n",
       "    .dataframe thead th {\n",
       "        text-align: right;\n",
       "    }\n",
       "</style>\n",
       "<table border=\"1\" class=\"dataframe\">\n",
       "  <thead>\n",
       "    <tr style=\"text-align: right;\">\n",
       "      <th></th>\n",
       "      <th>Gender</th>\n",
       "      <th>Age</th>\n",
       "      <th>CGPA</th>\n",
       "      <th>Sleep Duration</th>\n",
       "      <th>Degree</th>\n",
       "      <th>Suicidal Thoughts</th>\n",
       "      <th>Work/Study Hours</th>\n",
       "      <th>Family History of Mental Illness</th>\n",
       "      <th>Depression</th>\n",
       "    </tr>\n",
       "  </thead>\n",
       "  <tbody>\n",
       "    <tr>\n",
       "      <th>3260</th>\n",
       "      <td>Female</td>\n",
       "      <td>34.0</td>\n",
       "      <td>6.99</td>\n",
       "      <td>Less than 5 hours</td>\n",
       "      <td>Undergraduate</td>\n",
       "      <td>Yes</td>\n",
       "      <td>4.0</td>\n",
       "      <td>Yes</td>\n",
       "      <td>1</td>\n",
       "    </tr>\n",
       "    <tr>\n",
       "      <th>6318</th>\n",
       "      <td>Female</td>\n",
       "      <td>27.0</td>\n",
       "      <td>5.16</td>\n",
       "      <td>7-8 hours</td>\n",
       "      <td>Undergraduate</td>\n",
       "      <td>Yes</td>\n",
       "      <td>10.0</td>\n",
       "      <td>Yes</td>\n",
       "      <td>1</td>\n",
       "    </tr>\n",
       "    <tr>\n",
       "      <th>12453</th>\n",
       "      <td>Male</td>\n",
       "      <td>30.0</td>\n",
       "      <td>6.25</td>\n",
       "      <td>5-6 hours</td>\n",
       "      <td>Postgraduate</td>\n",
       "      <td>No</td>\n",
       "      <td>10.0</td>\n",
       "      <td>No</td>\n",
       "      <td>0</td>\n",
       "    </tr>\n",
       "    <tr>\n",
       "      <th>16544</th>\n",
       "      <td>Female</td>\n",
       "      <td>32.0</td>\n",
       "      <td>5.32</td>\n",
       "      <td>7-8 hours</td>\n",
       "      <td>Doctorate</td>\n",
       "      <td>Yes</td>\n",
       "      <td>12.0</td>\n",
       "      <td>Yes</td>\n",
       "      <td>1</td>\n",
       "    </tr>\n",
       "    <tr>\n",
       "      <th>11652</th>\n",
       "      <td>Male</td>\n",
       "      <td>27.0</td>\n",
       "      <td>9.44</td>\n",
       "      <td>More than 8 hours</td>\n",
       "      <td>Doctorate</td>\n",
       "      <td>No</td>\n",
       "      <td>8.0</td>\n",
       "      <td>Yes</td>\n",
       "      <td>0</td>\n",
       "    </tr>\n",
       "  </tbody>\n",
       "</table>\n",
       "</div>"
      ],
      "text/plain": [
       "       Gender   Age  CGPA     Sleep Duration         Degree Suicidal Thoughts  \\\n",
       "3260   Female  34.0  6.99  Less than 5 hours  Undergraduate               Yes   \n",
       "6318   Female  27.0  5.16          7-8 hours  Undergraduate               Yes   \n",
       "12453    Male  30.0  6.25          5-6 hours   Postgraduate                No   \n",
       "16544  Female  32.0  5.32          7-8 hours      Doctorate               Yes   \n",
       "11652    Male  27.0  9.44  More than 8 hours      Doctorate                No   \n",
       "\n",
       "       Work/Study Hours Family History of Mental Illness  Depression  \n",
       "3260                4.0                              Yes           1  \n",
       "6318               10.0                              Yes           1  \n",
       "12453              10.0                               No           0  \n",
       "16544              12.0                              Yes           1  \n",
       "11652               8.0                              Yes           0  "
      ]
     },
     "execution_count": 126,
     "metadata": {},
     "output_type": "execute_result"
    }
   ],
   "source": [
    "train_data.head(5)"
   ]
  },
  {
   "cell_type": "markdown",
   "metadata": {},
   "source": [
    "3. Utilizar una estrategia para normalizar los datos numéricos y una forma de codificar los atributos\n",
    "categóricos"
   ]
  },
  {
   "cell_type": "markdown",
   "metadata": {},
   "source": [
    "### Normalizar los datos numéricos"
   ]
  },
  {
   "cell_type": "code",
   "execution_count": 138,
   "metadata": {},
   "outputs": [],
   "source": [
    "from sklearn.pipeline import Pipeline\n",
    "from sklearn.impute import SimpleImputer\n",
    "from sklearn.preprocessing import StandardScaler, MinMaxScaler\n",
    "\n",
    "num_cols = [\"Age\", \"CGPA\", \"Work/Study Hours\"]\n",
    "num_pipeline = Pipeline([\n",
    "        (\"imputer\", SimpleImputer(strategy=\"median\")),\n",
    "        (\"scaler\", StandardScaler())\n",
    "    ])"
   ]
  },
  {
   "cell_type": "markdown",
   "metadata": {},
   "source": [
    "### Codificar datos categoricos"
   ]
  },
  {
   "cell_type": "code",
   "execution_count": 139,
   "metadata": {},
   "outputs": [],
   "source": [
    "from sklearn.preprocessing import OneHotEncoder, OrdinalEncoder\n",
    "from sklearn.pipeline import Pipeline\n",
    "from sklearn.impute import SimpleImputer\n",
    "\n",
    "# Label Encoding Para variable binarias\n",
    "cat_cols_le =  [\"Gender\", \"Suicidal Thoughts\", \"Family History of Mental Illness\"]\n",
    "cat_pipeline_le = Pipeline([\n",
    "    (\"imputer\", SimpleImputer(strategy=\"most_frequent\")),\n",
    "    (\"encoder\", OrdinalEncoder())  # funciona bien para columnas binarias\n",
    "])\n",
    "\n",
    "# One hot enconding para variables multivalor\n",
    "cat_cols_ohe =  [\"Sleep Duration\", \"Degree\"]\n",
    "cat_pipeline_ohe = Pipeline([\n",
    "    (\"imputer\", SimpleImputer(strategy=\"most_frequent\")),\n",
    "    (\"cat_encoder\", OneHotEncoder(sparse_output=False))\n",
    "])"
   ]
  },
  {
   "cell_type": "markdown",
   "metadata": {},
   "source": [
    "### Pipeline completo"
   ]
  },
  {
   "cell_type": "code",
   "execution_count": 140,
   "metadata": {},
   "outputs": [],
   "source": [
    "from sklearn.compose import ColumnTransformer\n",
    "\n",
    "full_pipeline = ColumnTransformer([\n",
    "    (\"num\", num_pipeline, num_cols),\n",
    "    (\"cat_ohe\", cat_pipeline_ohe, cat_cols_ohe),\n",
    "    (\"cat_le\", cat_pipeline_le, cat_cols_le)\n",
    "])"
   ]
  },
  {
   "cell_type": "code",
   "execution_count": 141,
   "metadata": {},
   "outputs": [],
   "source": [
    "X_train = full_pipeline.fit_transform(train_data.drop(columns=[\"Depression\"]))"
   ]
  },
  {
   "cell_type": "code",
   "execution_count": 142,
   "metadata": {},
   "outputs": [
    {
     "data": {
      "text/plain": [
       "array([ 1.66734627, -0.4537586 , -0.85612994,  0.        ,  0.        ,\n",
       "        1.        ,  0.        ,  0.        ,  0.        ,  0.        ,\n",
       "        0.        ,  0.        ,  1.        ,  0.        ,  1.        ,\n",
       "        1.        ])"
      ]
     },
     "execution_count": 142,
     "metadata": {},
     "output_type": "execute_result"
    }
   ],
   "source": [
    "X_train[0,:]"
   ]
  },
  {
   "cell_type": "code",
   "execution_count": 143,
   "metadata": {},
   "outputs": [
    {
     "data": {
      "text/plain": [
       "3260     1\n",
       "6318     1\n",
       "12453    0\n",
       "16544    1\n",
       "11652    0\n",
       "        ..\n",
       "22963    1\n",
       "25004    1\n",
       "5087     1\n",
       "8636     1\n",
       "20035    0\n",
       "Name: Depression, Length: 22320, dtype: int64"
      ]
     },
     "execution_count": 143,
     "metadata": {},
     "output_type": "execute_result"
    }
   ],
   "source": [
    "y_train = train_data[\"Depression\"]\n",
    "y_train"
   ]
  },
  {
   "cell_type": "code",
   "execution_count": 144,
   "metadata": {},
   "outputs": [],
   "source": [
    "y_test = test_data[\"Depression\"]\n",
    "X_test = full_pipeline.fit_transform(test_data.drop(columns=[\"Depression\"]))"
   ]
  },
  {
   "cell_type": "markdown",
   "metadata": {},
   "source": [
    "## Construcción de los árbol de decisión"
   ]
  },
  {
   "cell_type": "markdown",
   "metadata": {},
   "source": [
    "### Gini\n",
    "4. Configurar los hiperparámetros del árbol de decisión de la siguiente manera: criterion=gini,\n",
    "splitter=best, y random_state=123. Obtener 10 árboles de decisión que resultan de modificar el\n",
    "hiperparámetro max_depth desde 1 hasta 10 con incrementos de 1"
   ]
  },
  {
   "cell_type": "code",
   "execution_count": 310,
   "metadata": {},
   "outputs": [
    {
     "name": "stdout",
     "output_type": "stream",
     "text": [
      "terminado\n"
     ]
    }
   ],
   "source": [
    "from sklearn import tree\n",
    "from sklearn.metrics import accuracy_score\n",
    "from sklearn.model_selection import cross_val_score\n",
    "\n",
    "results_gini = []\n",
    "for depth in range(1, 11):\n",
    "    modelo = tree.DecisionTreeClassifier(\n",
    "        criterion='gini',\n",
    "        splitter='best',\n",
    "        max_depth=depth,\n",
    "        random_state=123\n",
    "    )\n",
    "    modelo.fit(X_train, y_train)\n",
    "    score = cross_val_score(modelo, X_train, y_train, cv=5,scoring='accuracy')\n",
    "    y_pred = modelo.predict(X_test)\n",
    "    acc = accuracy_score(y_test, y_pred)\n",
    "    results_gini.append({'max_depth': depth, 'gini_accuracy_cv': score.mean(), 'gini_test_accuracy': acc})\n",
    "\n",
    "\n",
    "\n",
    "print(\"terminado\")"
   ]
  },
  {
   "cell_type": "markdown",
   "metadata": {},
   "source": [
    "5. Incluya en el notebook una tabla con el accuracy obtenido sobre el conjunto de prueba para los 10\n",
    "árboles del punto anterior"
   ]
  },
  {
   "cell_type": "code",
   "execution_count": 311,
   "metadata": {
    "scrolled": true
   },
   "outputs": [
    {
     "data": {
      "text/html": [
       "<div>\n",
       "<style scoped>\n",
       "    .dataframe tbody tr th:only-of-type {\n",
       "        vertical-align: middle;\n",
       "    }\n",
       "\n",
       "    .dataframe tbody tr th {\n",
       "        vertical-align: top;\n",
       "    }\n",
       "\n",
       "    .dataframe thead th {\n",
       "        text-align: right;\n",
       "    }\n",
       "</style>\n",
       "<table border=\"1\" class=\"dataframe\">\n",
       "  <thead>\n",
       "    <tr style=\"text-align: right;\">\n",
       "      <th></th>\n",
       "      <th>max_depth</th>\n",
       "      <th>gini_accuracy_cv</th>\n",
       "      <th>gini_test_accuracy</th>\n",
       "    </tr>\n",
       "  </thead>\n",
       "  <tbody>\n",
       "    <tr>\n",
       "      <th>0</th>\n",
       "      <td>1</td>\n",
       "      <td>0.781855</td>\n",
       "      <td>0.783372</td>\n",
       "    </tr>\n",
       "    <tr>\n",
       "      <th>1</th>\n",
       "      <td>2</td>\n",
       "      <td>0.781855</td>\n",
       "      <td>0.783372</td>\n",
       "    </tr>\n",
       "    <tr>\n",
       "      <th>2</th>\n",
       "      <td>3</td>\n",
       "      <td>0.780690</td>\n",
       "      <td>0.783372</td>\n",
       "    </tr>\n",
       "    <tr>\n",
       "      <th>3</th>\n",
       "      <td>4</td>\n",
       "      <td>0.784229</td>\n",
       "      <td>0.785881</td>\n",
       "    </tr>\n",
       "    <tr>\n",
       "      <th>4</th>\n",
       "      <td>5</td>\n",
       "      <td>0.780869</td>\n",
       "      <td>0.788031</td>\n",
       "    </tr>\n",
       "    <tr>\n",
       "      <th>5</th>\n",
       "      <td>6</td>\n",
       "      <td>0.783020</td>\n",
       "      <td>0.781580</td>\n",
       "    </tr>\n",
       "    <tr>\n",
       "      <th>6</th>\n",
       "      <td>7</td>\n",
       "      <td>0.779256</td>\n",
       "      <td>0.788568</td>\n",
       "    </tr>\n",
       "    <tr>\n",
       "      <th>7</th>\n",
       "      <td>8</td>\n",
       "      <td>0.776210</td>\n",
       "      <td>0.781939</td>\n",
       "    </tr>\n",
       "    <tr>\n",
       "      <th>8</th>\n",
       "      <td>9</td>\n",
       "      <td>0.772222</td>\n",
       "      <td>0.778713</td>\n",
       "    </tr>\n",
       "    <tr>\n",
       "      <th>9</th>\n",
       "      <td>10</td>\n",
       "      <td>0.764695</td>\n",
       "      <td>0.771905</td>\n",
       "    </tr>\n",
       "  </tbody>\n",
       "</table>\n",
       "</div>"
      ],
      "text/plain": [
       "   max_depth  gini_accuracy_cv  gini_test_accuracy\n",
       "0          1          0.781855            0.783372\n",
       "1          2          0.781855            0.783372\n",
       "2          3          0.780690            0.783372\n",
       "3          4          0.784229            0.785881\n",
       "4          5          0.780869            0.788031\n",
       "5          6          0.783020            0.781580\n",
       "6          7          0.779256            0.788568\n",
       "7          8          0.776210            0.781939\n",
       "8          9          0.772222            0.778713\n",
       "9         10          0.764695            0.771905"
      ]
     },
     "execution_count": 311,
     "metadata": {},
     "output_type": "execute_result"
    }
   ],
   "source": [
    "df_gini = pd.DataFrame(results_gini)\n",
    "# Accuracy con criterio Gini:\n",
    "df_gini"
   ]
  },
  {
   "cell_type": "code",
   "execution_count": 312,
   "metadata": {},
   "outputs": [
    {
     "data": {
      "image/png": "[encoded data removed]",
      "text/plain": [
       "<Figure size 640x480 with 1 Axes>"
      ]
     },
     "metadata": {},
     "output_type": "display_data"
    }
   ],
   "source": [
    "import matplotlib.pyplot as plt\n",
    "\n",
    "plt.plot(df_gini[\"max_depth\"], df_gini[\"gini_accuracy_cv\"], label=\"Entrenamiento (CV)\")\n",
    "plt.plot(df_gini[\"max_depth\"], df_gini[\"gini_test_accuracy\"], label=\"Prueba\")\n",
    "plt.xlabel(\"Profundidad del árbol\")\n",
    "plt.ylabel(\"Accuracy\")\n",
    "plt.legend()\n",
    "plt.title(\"Precisión vs Profundidad (gini)\")\n",
    "plt.grid()\n",
    "plt.show()"
   ]
  },
  {
   "cell_type": "markdown",
   "metadata": {},
   "source": [
    "#### Conclusión: \n",
    "Se observó que la mayor precisión en el conjunto de prueba se alcanzó con un árbol de decisión de profundidad 7, obteniendo un valor de 0,788568. A partir de esta profundidad, la precisión comenzó a disminuir, lo que sugiere un fenómeno de sobreajuste del modelo a los datos de entrenamiento."
   ]
  },
  {
   "cell_type": "markdown",
   "metadata": {},
   "source": [
    "### Entropy\n",
    "6. Repita el mismo procedimiento del punto 4 usando como hiperparámetros criterion=entropy,\n",
    "splitter=best, y random_state=123. Nuevamente debe modificar el hiperparámetro max_depth desde\n",
    "1 hasta 10 con incrementos de 1"
   ]
  },
  {
   "cell_type": "code",
   "execution_count": 313,
   "metadata": {},
   "outputs": [
    {
     "name": "stdout",
     "output_type": "stream",
     "text": [
      "terminado\n"
     ]
    }
   ],
   "source": [
    "from sklearn import tree\n",
    "from sklearn.metrics import accuracy_score\n",
    "from sklearn.model_selection import cross_val_score\n",
    "\n",
    "y_test = test_data[\"Depression\"]\n",
    "X_test = full_pipeline.fit_transform(test_data.drop(columns=[\"Depression\"]))\n",
    "\n",
    "results_entropy = []\n",
    "for depth in range(1, 11):\n",
    "    modelo = tree.DecisionTreeClassifier(\n",
    "        criterion='entropy',\n",
    "        splitter='best',\n",
    "        max_depth=depth,\n",
    "        random_state=123\n",
    "    )\n",
    "    modelo.fit(X_train, y_train)\n",
    "    score = cross_val_score(modelo, X_train, y_train, cv=5,scoring='accuracy')\n",
    "    y_pred = modelo.predict(X_test)\n",
    "    acc = accuracy_score(y_test, y_pred)\n",
    "    results_entropy.append({'max_depth': depth, 'entropy_accuracy_cv': score.mean(), 'entropy_test_accuracy': acc})\n",
    "\n",
    "\n",
    "\n",
    "print(\"terminado\")"
   ]
  },
  {
   "cell_type": "markdown",
   "metadata": {},
   "source": [
    "7. Incluya en el notebook una tabla con el accuracy obtenido sobre el conjunto de prueba para los 10\n",
    "árboles del punto anterior"
   ]
  },
  {
   "cell_type": "code",
   "execution_count": 314,
   "metadata": {},
   "outputs": [
    {
     "data": {
      "text/html": [
       "<div>\n",
       "<style scoped>\n",
       "    .dataframe tbody tr th:only-of-type {\n",
       "        vertical-align: middle;\n",
       "    }\n",
       "\n",
       "    .dataframe tbody tr th {\n",
       "        vertical-align: top;\n",
       "    }\n",
       "\n",
       "    .dataframe thead th {\n",
       "        text-align: right;\n",
       "    }\n",
       "</style>\n",
       "<table border=\"1\" class=\"dataframe\">\n",
       "  <thead>\n",
       "    <tr style=\"text-align: right;\">\n",
       "      <th></th>\n",
       "      <th>max_depth</th>\n",
       "      <th>entropy_accuracy_cv</th>\n",
       "      <th>entropy_test_accuracy</th>\n",
       "    </tr>\n",
       "  </thead>\n",
       "  <tbody>\n",
       "    <tr>\n",
       "      <th>0</th>\n",
       "      <td>1</td>\n",
       "      <td>0.781855</td>\n",
       "      <td>0.783372</td>\n",
       "    </tr>\n",
       "    <tr>\n",
       "      <th>1</th>\n",
       "      <td>2</td>\n",
       "      <td>0.781855</td>\n",
       "      <td>0.783372</td>\n",
       "    </tr>\n",
       "    <tr>\n",
       "      <th>2</th>\n",
       "      <td>3</td>\n",
       "      <td>0.780690</td>\n",
       "      <td>0.783372</td>\n",
       "    </tr>\n",
       "    <tr>\n",
       "      <th>3</th>\n",
       "      <td>4</td>\n",
       "      <td>0.784229</td>\n",
       "      <td>0.785701</td>\n",
       "    </tr>\n",
       "    <tr>\n",
       "      <th>4</th>\n",
       "      <td>5</td>\n",
       "      <td>0.780959</td>\n",
       "      <td>0.785701</td>\n",
       "    </tr>\n",
       "    <tr>\n",
       "      <th>5</th>\n",
       "      <td>6</td>\n",
       "      <td>0.783378</td>\n",
       "      <td>0.782297</td>\n",
       "    </tr>\n",
       "    <tr>\n",
       "      <th>6</th>\n",
       "      <td>7</td>\n",
       "      <td>0.780735</td>\n",
       "      <td>0.785881</td>\n",
       "    </tr>\n",
       "    <tr>\n",
       "      <th>7</th>\n",
       "      <td>8</td>\n",
       "      <td>0.776837</td>\n",
       "      <td>0.780864</td>\n",
       "    </tr>\n",
       "    <tr>\n",
       "      <th>8</th>\n",
       "      <td>9</td>\n",
       "      <td>0.772043</td>\n",
       "      <td>0.776922</td>\n",
       "    </tr>\n",
       "    <tr>\n",
       "      <th>9</th>\n",
       "      <td>10</td>\n",
       "      <td>0.769624</td>\n",
       "      <td>0.772621</td>\n",
       "    </tr>\n",
       "  </tbody>\n",
       "</table>\n",
       "</div>"
      ],
      "text/plain": [
       "   max_depth  entropy_accuracy_cv  entropy_test_accuracy\n",
       "0          1             0.781855               0.783372\n",
       "1          2             0.781855               0.783372\n",
       "2          3             0.780690               0.783372\n",
       "3          4             0.784229               0.785701\n",
       "4          5             0.780959               0.785701\n",
       "5          6             0.783378               0.782297\n",
       "6          7             0.780735               0.785881\n",
       "7          8             0.776837               0.780864\n",
       "8          9             0.772043               0.776922\n",
       "9         10             0.769624               0.772621"
      ]
     },
     "execution_count": 314,
     "metadata": {},
     "output_type": "execute_result"
    }
   ],
   "source": [
    "df_entropy = pd.DataFrame(results_entropy)\n",
    "# Accuracy con criterio entropy:\n",
    "df_entropy"
   ]
  },
  {
   "cell_type": "code",
   "execution_count": 315,
   "metadata": {},
   "outputs": [
    {
     "data": {
      "image/png": "[encoded data removed]",
      "text/plain": [
       "<Figure size 640x480 with 1 Axes>"
      ]
     },
     "metadata": {},
     "output_type": "display_data"
    }
   ],
   "source": [
    "import matplotlib.pyplot as plt\n",
    "\n",
    "plt.plot(df_entropy[\"max_depth\"], df_entropy[\"entropy_accuracy_cv\"], label=\"Entrenamiento (CV)\")\n",
    "plt.plot(df_entropy[\"max_depth\"], df_entropy[\"entropy_test_accuracy\"], label=\"Prueba\")\n",
    "plt.xlabel(\"Profundidad del árbol\")\n",
    "plt.ylabel(\"Accuracy\")\n",
    "plt.legend()\n",
    "plt.title(\"Precisión vs Profundidad (Entropy)\")\n",
    "plt.grid()\n",
    "plt.show()"
   ]
  },
  {
   "cell_type": "markdown",
   "metadata": {},
   "source": [
    "#### Conclusión: \n",
    "Al utilizar el criterio de Entropía, se observó un comportamiento idéntico al obtenido con el criterio de Gini. La mayor precisión en el conjunto de prueba se alcanzó con un árbol de decisión de profundidad 7, arrojando un valor de 0.785881. De manera similar, la precisión comenzó a disminuir a partir de esta profundidad."
   ]
  },
  {
   "cell_type": "markdown",
   "metadata": {},
   "source": [
    "## Gini vs Entropy\n",
    "8. Indique en el notebook los hiperparámetros que por el momento le permiten obtener el árbol con\n",
    "mayor accuracy"
   ]
  },
  {
   "cell_type": "code",
   "execution_count": 265,
   "metadata": {},
   "outputs": [
    {
     "data": {
      "text/html": [
       "<div>\n",
       "<style scoped>\n",
       "    .dataframe tbody tr th:only-of-type {\n",
       "        vertical-align: middle;\n",
       "    }\n",
       "\n",
       "    .dataframe tbody tr th {\n",
       "        vertical-align: top;\n",
       "    }\n",
       "\n",
       "    .dataframe thead th {\n",
       "        text-align: right;\n",
       "    }\n",
       "</style>\n",
       "<table border=\"1\" class=\"dataframe\">\n",
       "  <thead>\n",
       "    <tr style=\"text-align: right;\">\n",
       "      <th></th>\n",
       "      <th>max_depth</th>\n",
       "      <th>gini_test_accuracy</th>\n",
       "      <th>entropy_test_accuracy</th>\n",
       "    </tr>\n",
       "  </thead>\n",
       "  <tbody>\n",
       "    <tr>\n",
       "      <th>0</th>\n",
       "      <td>1</td>\n",
       "      <td>0.783372</td>\n",
       "      <td>0.783372</td>\n",
       "    </tr>\n",
       "    <tr>\n",
       "      <th>1</th>\n",
       "      <td>2</td>\n",
       "      <td>0.783372</td>\n",
       "      <td>0.783372</td>\n",
       "    </tr>\n",
       "    <tr>\n",
       "      <th>2</th>\n",
       "      <td>3</td>\n",
       "      <td>0.783372</td>\n",
       "      <td>0.783372</td>\n",
       "    </tr>\n",
       "    <tr>\n",
       "      <th>3</th>\n",
       "      <td>4</td>\n",
       "      <td>0.785881</td>\n",
       "      <td>0.785701</td>\n",
       "    </tr>\n",
       "    <tr>\n",
       "      <th>4</th>\n",
       "      <td>5</td>\n",
       "      <td>0.788031</td>\n",
       "      <td>0.785701</td>\n",
       "    </tr>\n",
       "    <tr>\n",
       "      <th>5</th>\n",
       "      <td>6</td>\n",
       "      <td>0.781580</td>\n",
       "      <td>0.782297</td>\n",
       "    </tr>\n",
       "    <tr>\n",
       "      <th>6</th>\n",
       "      <td>7</td>\n",
       "      <td>0.788568</td>\n",
       "      <td>0.785881</td>\n",
       "    </tr>\n",
       "    <tr>\n",
       "      <th>7</th>\n",
       "      <td>8</td>\n",
       "      <td>0.781939</td>\n",
       "      <td>0.780864</td>\n",
       "    </tr>\n",
       "    <tr>\n",
       "      <th>8</th>\n",
       "      <td>9</td>\n",
       "      <td>0.778713</td>\n",
       "      <td>0.776922</td>\n",
       "    </tr>\n",
       "    <tr>\n",
       "      <th>9</th>\n",
       "      <td>10</td>\n",
       "      <td>0.771905</td>\n",
       "      <td>0.772621</td>\n",
       "    </tr>\n",
       "  </tbody>\n",
       "</table>\n",
       "</div>"
      ],
      "text/plain": [
       "   max_depth  gini_test_accuracy  entropy_test_accuracy\n",
       "0          1            0.783372               0.783372\n",
       "1          2            0.783372               0.783372\n",
       "2          3            0.783372               0.783372\n",
       "3          4            0.785881               0.785701\n",
       "4          5            0.788031               0.785701\n",
       "5          6            0.781580               0.782297\n",
       "6          7            0.788568               0.785881\n",
       "7          8            0.781939               0.780864\n",
       "8          9            0.778713               0.776922\n",
       "9         10            0.771905               0.772621"
      ]
     },
     "execution_count": 265,
     "metadata": {},
     "output_type": "execute_result"
    }
   ],
   "source": [
    "df_compared = pd.merge(df_gini, df_entropy, on='max_depth')\n",
    "df_compared.drop(columns=[\"entropy_accuracy_cv\", \"gini_accuracy_cv\"])"
   ]
  },
  {
   "cell_type": "code",
   "execution_count": 317,
   "metadata": {},
   "outputs": [
    {
     "data": {
      "image/png": "[encoded data removed]",
      "text/plain": [
       "<Figure size 640x480 with 1 Axes>"
      ]
     },
     "metadata": {},
     "output_type": "display_data"
    }
   ],
   "source": [
    "import matplotlib.pyplot as plt\n",
    "\n",
    "plt.plot(df_entropy[\"max_depth\"], df_entropy[\"entropy_test_accuracy\"], label=\"Entropy Prueba\")\n",
    "plt.plot(df_gini[\"max_depth\"], df_gini[\"gini_test_accuracy\"], label=\"Gini Prueba\")\n",
    "plt.xlabel(\"Profundidad del árbol\")\n",
    "plt.ylabel(\"Accuracy\")\n",
    "plt.legend()\n",
    "plt.title(\"Precisión vs Profundidad (Entropy vs Gini)\")\n",
    "plt.grid()\n",
    "plt.show()"
   ]
  },
  {
   "cell_type": "markdown",
   "metadata": {},
   "source": [
    "#### Conclusión: \n",
    "Para ambos criterios de división, Gini y Entropía, se observa un comportamiento similar en el rendimiento del modelo. La precisión en los datos de prueba alcanza su punto máximo alrededor de la profundidad 7 del árbol. A partir de este punto, la precisión en los datos de prueba comienza a disminuir para ambos criterios, lo que es un claro indicio de sobreajuste (overfitting).\n",
    "\n",
    "Aunque Gini obtiene una precisión ligeramente superior, las diferencias son mínimas, lo que sugiere que la elección entre estos dos criterios no alteraría drásticamente la calidad general del modelo. Sin embargo, dado que Gini es marginalmente más eficiente, se considera la opción más ideal en este caso."
   ]
  },
  {
   "cell_type": "markdown",
   "metadata": {},
   "source": [
    "## Selección de Hiperparámetro\n",
    "9. Seleccione uno de los hiperparámetros disponibles en la documentación (https://scikit-\n",
    "learn.org/stable/modules/generated/sklearn.tree.DecisionTreeClassifier.html) que sea diferente al\n",
    "criterion, splitter, max_depth, y random_state. Realice dos variaciones en el hiperparámetro\n",
    "seleccionado manteniendo los otros hiperparámetros del punto anterior. Indique el accuracy obtenido\n",
    "al modificar el hiperparámetro seleccionado y analice si el árbol de decisión mejora, empeora, o\n",
    "mantiene su exactitud."
   ]
  },
  {
   "cell_type": "markdown",
   "metadata": {},
   "source": [
    "Para la elección del hiperparámetro adicional, se consideraron dos que influyen directamente en el tamaño y la complejidad del árbol: min_samples_split, que define el número mínimo de muestras necesarias para dividir un nodo, y min_samples_leaf, que establece el mínimo de muestras requeridas en cada hoja terminal del árbol.\n",
    "\n",
    "Se realizó una comparación entre ambos hiperparámetros, evaluando valores desde 2 hasta 30, manteniendo constantes los demás hiperparámetros utilizados en el experimento anterior con criterio entropy y fijando la profundidad del árbol en 7, ya que fue la que ofreció la mejor precisión en los experimentos previos.\n",
    "\n",
    "El objetivo fue identificar cuál de los dos hiperparámetros ofrecía una mejor precisión y en qué rango de valores. Como resultado, min_samples_leaf mostró un rendimiento superior, logrando una mayor precisión que min_samples_split. Aunque este último también mostró mejoras a partir de valores mayores a 12, los incrementos en precisión fueron menos significativos en comparación."
   ]
  },
  {
   "cell_type": "code",
   "execution_count": 320,
   "metadata": {},
   "outputs": [
    {
     "name": "stdout",
     "output_type": "stream",
     "text": [
      "terminado\n"
     ]
    }
   ],
   "source": [
    "from sklearn import tree\n",
    "from sklearn.metrics import accuracy_score\n",
    "from sklearn.model_selection import cross_val_score\n",
    "\n",
    "results_hp = [] #resultados de min_samples_split\n",
    "\n",
    "# Se inicia en 2 porque es el valor minimo, y por defecto, de min_samples_split\n",
    "for value in range(2, 30):\n",
    "    modelo_split = tree.DecisionTreeClassifier(\n",
    "        criterion='entropy',\n",
    "        splitter='best',\n",
    "        max_depth=7, #Profundidad donde se obtuvo mayor presicion anteriormente\n",
    "        random_state=123,\n",
    "        min_samples_split=value\n",
    "    )\n",
    "    modelo_split.fit(X_train, y_train)\n",
    "    y_pred_split = modelo_split.predict(X_test)\n",
    "    acc_split = accuracy_score(y_test, y_pred_split)\n",
    "    \n",
    "    modelo_leaf = tree.DecisionTreeClassifier(\n",
    "        criterion='entropy',\n",
    "        splitter='best',\n",
    "        max_depth=7,\n",
    "        random_state=123,\n",
    "        min_samples_leaf=value\n",
    "    )\n",
    "    modelo_leaf.fit(X_train, y_train)\n",
    "    y_pred_leaf = modelo_leaf.predict(X_test)\n",
    "    acc_leaf = accuracy_score(y_test, y_pred_leaf)\n",
    "    \n",
    "    results_hp.append({'value': value, 'accuracy_split': acc_split, 'accuracy_leaf': acc_leaf})\n",
    "\n",
    "print(\"terminado\")"
   ]
  },
  {
   "cell_type": "code",
   "execution_count": 324,
   "metadata": {},
   "outputs": [
    {
     "data": {
      "text/html": [
       "<div>\n",
       "<style scoped>\n",
       "    .dataframe tbody tr th:only-of-type {\n",
       "        vertical-align: middle;\n",
       "    }\n",
       "\n",
       "    .dataframe tbody tr th {\n",
       "        vertical-align: top;\n",
       "    }\n",
       "\n",
       "    .dataframe thead th {\n",
       "        text-align: right;\n",
       "    }\n",
       "</style>\n",
       "<table border=\"1\" class=\"dataframe\">\n",
       "  <thead>\n",
       "    <tr style=\"text-align: right;\">\n",
       "      <th></th>\n",
       "      <th>value</th>\n",
       "      <th>accuracy_split</th>\n",
       "      <th>accuracy_leaf</th>\n",
       "    </tr>\n",
       "  </thead>\n",
       "  <tbody>\n",
       "    <tr>\n",
       "      <th>0</th>\n",
       "      <td>2</td>\n",
       "      <td>0.785881</td>\n",
       "      <td>0.786418</td>\n",
       "    </tr>\n",
       "    <tr>\n",
       "      <th>1</th>\n",
       "      <td>3</td>\n",
       "      <td>0.785881</td>\n",
       "      <td>0.786777</td>\n",
       "    </tr>\n",
       "    <tr>\n",
       "      <th>2</th>\n",
       "      <td>4</td>\n",
       "      <td>0.785881</td>\n",
       "      <td>0.786956</td>\n",
       "    </tr>\n",
       "    <tr>\n",
       "      <th>3</th>\n",
       "      <td>5</td>\n",
       "      <td>0.785881</td>\n",
       "      <td>0.790002</td>\n",
       "    </tr>\n",
       "    <tr>\n",
       "      <th>4</th>\n",
       "      <td>6</td>\n",
       "      <td>0.785881</td>\n",
       "      <td>0.790002</td>\n",
       "    </tr>\n",
       "    <tr>\n",
       "      <th>5</th>\n",
       "      <td>7</td>\n",
       "      <td>0.785881</td>\n",
       "      <td>0.789823</td>\n",
       "    </tr>\n",
       "    <tr>\n",
       "      <th>6</th>\n",
       "      <td>8</td>\n",
       "      <td>0.785881</td>\n",
       "      <td>0.790002</td>\n",
       "    </tr>\n",
       "    <tr>\n",
       "      <th>7</th>\n",
       "      <td>9</td>\n",
       "      <td>0.785881</td>\n",
       "      <td>0.789464</td>\n",
       "    </tr>\n",
       "    <tr>\n",
       "      <th>8</th>\n",
       "      <td>10</td>\n",
       "      <td>0.785881</td>\n",
       "      <td>0.789823</td>\n",
       "    </tr>\n",
       "    <tr>\n",
       "      <th>9</th>\n",
       "      <td>11</td>\n",
       "      <td>0.786060</td>\n",
       "      <td>0.789823</td>\n",
       "    </tr>\n",
       "    <tr>\n",
       "      <th>10</th>\n",
       "      <td>12</td>\n",
       "      <td>0.786060</td>\n",
       "      <td>0.789823</td>\n",
       "    </tr>\n",
       "    <tr>\n",
       "      <th>11</th>\n",
       "      <td>13</td>\n",
       "      <td>0.786239</td>\n",
       "      <td>0.788031</td>\n",
       "    </tr>\n",
       "    <tr>\n",
       "      <th>12</th>\n",
       "      <td>14</td>\n",
       "      <td>0.786239</td>\n",
       "      <td>0.788031</td>\n",
       "    </tr>\n",
       "    <tr>\n",
       "      <th>13</th>\n",
       "      <td>15</td>\n",
       "      <td>0.786239</td>\n",
       "      <td>0.788031</td>\n",
       "    </tr>\n",
       "    <tr>\n",
       "      <th>14</th>\n",
       "      <td>16</td>\n",
       "      <td>0.786239</td>\n",
       "      <td>0.788210</td>\n",
       "    </tr>\n",
       "    <tr>\n",
       "      <th>15</th>\n",
       "      <td>17</td>\n",
       "      <td>0.786239</td>\n",
       "      <td>0.787852</td>\n",
       "    </tr>\n",
       "    <tr>\n",
       "      <th>16</th>\n",
       "      <td>18</td>\n",
       "      <td>0.786239</td>\n",
       "      <td>0.787314</td>\n",
       "    </tr>\n",
       "    <tr>\n",
       "      <th>17</th>\n",
       "      <td>19</td>\n",
       "      <td>0.786060</td>\n",
       "      <td>0.787314</td>\n",
       "    </tr>\n",
       "    <tr>\n",
       "      <th>18</th>\n",
       "      <td>20</td>\n",
       "      <td>0.786060</td>\n",
       "      <td>0.786956</td>\n",
       "    </tr>\n",
       "    <tr>\n",
       "      <th>19</th>\n",
       "      <td>21</td>\n",
       "      <td>0.786060</td>\n",
       "      <td>0.785881</td>\n",
       "    </tr>\n",
       "    <tr>\n",
       "      <th>20</th>\n",
       "      <td>22</td>\n",
       "      <td>0.786060</td>\n",
       "      <td>0.785881</td>\n",
       "    </tr>\n",
       "    <tr>\n",
       "      <th>21</th>\n",
       "      <td>23</td>\n",
       "      <td>0.786060</td>\n",
       "      <td>0.785881</td>\n",
       "    </tr>\n",
       "    <tr>\n",
       "      <th>22</th>\n",
       "      <td>24</td>\n",
       "      <td>0.786060</td>\n",
       "      <td>0.786239</td>\n",
       "    </tr>\n",
       "    <tr>\n",
       "      <th>23</th>\n",
       "      <td>25</td>\n",
       "      <td>0.786060</td>\n",
       "      <td>0.786418</td>\n",
       "    </tr>\n",
       "    <tr>\n",
       "      <th>24</th>\n",
       "      <td>26</td>\n",
       "      <td>0.786060</td>\n",
       "      <td>0.786777</td>\n",
       "    </tr>\n",
       "    <tr>\n",
       "      <th>25</th>\n",
       "      <td>27</td>\n",
       "      <td>0.786060</td>\n",
       "      <td>0.787314</td>\n",
       "    </tr>\n",
       "    <tr>\n",
       "      <th>26</th>\n",
       "      <td>28</td>\n",
       "      <td>0.786060</td>\n",
       "      <td>0.787314</td>\n",
       "    </tr>\n",
       "    <tr>\n",
       "      <th>27</th>\n",
       "      <td>29</td>\n",
       "      <td>0.786060</td>\n",
       "      <td>0.787852</td>\n",
       "    </tr>\n",
       "  </tbody>\n",
       "</table>\n",
       "</div>"
      ],
      "text/plain": [
       "    value  accuracy_split  accuracy_leaf\n",
       "0       2        0.785881       0.786418\n",
       "1       3        0.785881       0.786777\n",
       "2       4        0.785881       0.786956\n",
       "3       5        0.785881       0.790002\n",
       "4       6        0.785881       0.790002\n",
       "5       7        0.785881       0.789823\n",
       "6       8        0.785881       0.790002\n",
       "7       9        0.785881       0.789464\n",
       "8      10        0.785881       0.789823\n",
       "9      11        0.786060       0.789823\n",
       "10     12        0.786060       0.789823\n",
       "11     13        0.786239       0.788031\n",
       "12     14        0.786239       0.788031\n",
       "13     15        0.786239       0.788031\n",
       "14     16        0.786239       0.788210\n",
       "15     17        0.786239       0.787852\n",
       "16     18        0.786239       0.787314\n",
       "17     19        0.786060       0.787314\n",
       "18     20        0.786060       0.786956\n",
       "19     21        0.786060       0.785881\n",
       "20     22        0.786060       0.785881\n",
       "21     23        0.786060       0.785881\n",
       "22     24        0.786060       0.786239\n",
       "23     25        0.786060       0.786418\n",
       "24     26        0.786060       0.786777\n",
       "25     27        0.786060       0.787314\n",
       "26     28        0.786060       0.787314\n",
       "27     29        0.786060       0.787852"
      ]
     },
     "execution_count": 324,
     "metadata": {},
     "output_type": "execute_result"
    }
   ],
   "source": [
    "df_hp_compared = pd.DataFrame(results_hp)\n",
    "df_hp_compared"
   ]
  },
  {
   "cell_type": "code",
   "execution_count": 326,
   "metadata": {},
   "outputs": [
    {
     "data": {
      "image/png": "[encoded data removed]",
      "text/plain": [
       "<Figure size 640x480 with 1 Axes>"
      ]
     },
     "metadata": {},
     "output_type": "display_data"
    }
   ],
   "source": [
    "import matplotlib.pyplot as plt\n",
    "\n",
    "plt.plot(df_hp_compared[\"value\"], df_hp_compared[\"accuracy_split\"], label=\"min_samples_split\")\n",
    "plt.plot(df_hp_compared[\"value\"], df_hp_compared[\"accuracy_leaf\"], label=\"min_samples_leaf\")\n",
    "plt.xlabel(\"Valor\")\n",
    "plt.ylabel(\"Accuracy\")\n",
    "plt.legend()\n",
    "plt.title(\"Comparación de precisión por hiperparámeto\")\n",
    "plt.grid()\n",
    "plt.show()"
   ]
  },
  {
   "cell_type": "markdown",
   "metadata": {},
   "source": [
    "## Comparación de presición entre modelos"
   ]
  },
  {
   "cell_type": "code",
   "execution_count": 332,
   "metadata": {},
   "outputs": [
    {
     "name": "stdout",
     "output_type": "stream",
     "text": [
      "terminado\n"
     ]
    }
   ],
   "source": [
    "from sklearn import tree\n",
    "from sklearn.metrics import accuracy_score\n",
    "from sklearn.model_selection import cross_val_score\n",
    "\n",
    "results = []\n",
    "\n",
    "for depth in range(1, 11):\n",
    "    modelo1 = tree.DecisionTreeClassifier(\n",
    "        criterion='entropy',\n",
    "        splitter='best',\n",
    "        max_depth=depth,\n",
    "        random_state=123,\n",
    "        min_samples_leaf=5\n",
    "    )\n",
    "    modelo1.fit(X_train, y_train)\n",
    "    y_pred_modelo1 = modelo1.predict(X_test)\n",
    "    acc_modelo1 = accuracy_score(y_test, y_pred_modelo1)\n",
    "    \n",
    "    modelo2 = tree.DecisionTreeClassifier(\n",
    "        criterion='entropy',\n",
    "        splitter='best',\n",
    "        max_depth=depth,\n",
    "        random_state=123,\n",
    "        min_samples_leaf=10\n",
    "    )\n",
    "    modelo2.fit(X_train, y_train)\n",
    "    y_pred_modelo2 = modelo2.predict(X_test)\n",
    "    acc_modelo2 = accuracy_score(y_test, y_pred_modelo2)\n",
    "    results.append({'max_depth': depth, 'accuracy_value_5': acc_modelo1, 'accuracy_value_10': acc_modelo2})\n",
    "\n",
    "print(\"terminado\")"
   ]
  },
  {
   "cell_type": "code",
   "execution_count": 333,
   "metadata": {},
   "outputs": [
    {
     "data": {
      "text/html": [
       "<div>\n",
       "<style scoped>\n",
       "    .dataframe tbody tr th:only-of-type {\n",
       "        vertical-align: middle;\n",
       "    }\n",
       "\n",
       "    .dataframe tbody tr th {\n",
       "        vertical-align: top;\n",
       "    }\n",
       "\n",
       "    .dataframe thead th {\n",
       "        text-align: right;\n",
       "    }\n",
       "</style>\n",
       "<table border=\"1\" class=\"dataframe\">\n",
       "  <thead>\n",
       "    <tr style=\"text-align: right;\">\n",
       "      <th></th>\n",
       "      <th>max_depth</th>\n",
       "      <th>accuracy_value_5</th>\n",
       "      <th>accuracy_value_10</th>\n",
       "    </tr>\n",
       "  </thead>\n",
       "  <tbody>\n",
       "    <tr>\n",
       "      <th>0</th>\n",
       "      <td>1</td>\n",
       "      <td>0.783372</td>\n",
       "      <td>0.783372</td>\n",
       "    </tr>\n",
       "    <tr>\n",
       "      <th>1</th>\n",
       "      <td>2</td>\n",
       "      <td>0.783372</td>\n",
       "      <td>0.783372</td>\n",
       "    </tr>\n",
       "    <tr>\n",
       "      <th>2</th>\n",
       "      <td>3</td>\n",
       "      <td>0.783372</td>\n",
       "      <td>0.783372</td>\n",
       "    </tr>\n",
       "    <tr>\n",
       "      <th>3</th>\n",
       "      <td>4</td>\n",
       "      <td>0.785701</td>\n",
       "      <td>0.785701</td>\n",
       "    </tr>\n",
       "    <tr>\n",
       "      <th>4</th>\n",
       "      <td>5</td>\n",
       "      <td>0.788031</td>\n",
       "      <td>0.787852</td>\n",
       "    </tr>\n",
       "    <tr>\n",
       "      <th>5</th>\n",
       "      <td>6</td>\n",
       "      <td>0.782835</td>\n",
       "      <td>0.782476</td>\n",
       "    </tr>\n",
       "    <tr>\n",
       "      <th>6</th>\n",
       "      <td>7</td>\n",
       "      <td>0.790002</td>\n",
       "      <td>0.789823</td>\n",
       "    </tr>\n",
       "    <tr>\n",
       "      <th>7</th>\n",
       "      <td>8</td>\n",
       "      <td>0.781580</td>\n",
       "      <td>0.781760</td>\n",
       "    </tr>\n",
       "    <tr>\n",
       "      <th>8</th>\n",
       "      <td>9</td>\n",
       "      <td>0.781043</td>\n",
       "      <td>0.778176</td>\n",
       "    </tr>\n",
       "    <tr>\n",
       "      <th>9</th>\n",
       "      <td>10</td>\n",
       "      <td>0.774234</td>\n",
       "      <td>0.772621</td>\n",
       "    </tr>\n",
       "  </tbody>\n",
       "</table>\n",
       "</div>"
      ],
      "text/plain": [
       "   max_depth  accuracy_value_5  accuracy_value_10\n",
       "0          1          0.783372           0.783372\n",
       "1          2          0.783372           0.783372\n",
       "2          3          0.783372           0.783372\n",
       "3          4          0.785701           0.785701\n",
       "4          5          0.788031           0.787852\n",
       "5          6          0.782835           0.782476\n",
       "6          7          0.790002           0.789823\n",
       "7          8          0.781580           0.781760\n",
       "8          9          0.781043           0.778176\n",
       "9         10          0.774234           0.772621"
      ]
     },
     "execution_count": 333,
     "metadata": {},
     "output_type": "execute_result"
    }
   ],
   "source": [
    "df_entropy_leaf = pd.DataFrame(results)\n",
    "df_entropy_leaf"
   ]
  },
  {
   "cell_type": "code",
   "execution_count": 334,
   "metadata": {},
   "outputs": [
    {
     "data": {
      "image/png": "[encoded data removed]",
      "text/plain": [
       "<Figure size 640x480 with 1 Axes>"
      ]
     },
     "metadata": {},
     "output_type": "display_data"
    }
   ],
   "source": [
    "import matplotlib.pyplot as plt\n",
    "\n",
    "plt.plot(df_entropy_leaf[\"max_depth\"], df_entropy_leaf[\"accuracy_value_5\"], label=\"Entropy min_samples_leaf = 5\")\n",
    "plt.plot(df_entropy_leaf[\"max_depth\"], df_entropy_leaf[\"accuracy_value_10\"], label=\"Entropy min_samples_leaf = 10\")\n",
    "plt.plot(df_entropy[\"max_depth\"], df_entropy[\"entropy_test_accuracy\"], label=\"Entropy Prueba\")\n",
    "plt.plot(df_gini[\"max_depth\"], df_gini[\"gini_test_accuracy\"], label=\"Gini Prueba\")\n",
    "plt.xlabel(\"Profundidad del árbol\")\n",
    "plt.ylabel(\"Accuracy\")\n",
    "plt.legend()\n",
    "plt.title(\"Comparación entre modelos: Precisión vs Profundidad\")\n",
    "plt.grid()\n",
    "plt.show()"
   ]
  },
  {
   "cell_type": "markdown",
   "metadata": {},
   "source": [
    "#### Conclusión\n",
    "Al modificar el hiperparámetro min_samples_leaf, se observó un comportamiento similar al obtenido con los modelos entrenados con los criterios Gini y Entropy sin restricciones adicionales, pero con una pequeña mejora en la precisión sobre el conjunto de prueba (0,790002). En particular, al establecer min_samples_leaf = 5, el árbol de decisión alcanzó una mayor exactitud en comparación con el valor por defecto (min_samples_leaf = 1). Sin embargo, se evidenció una disminución en el rendimiento a partir de valores superiores a 10.\n",
    "Este resultado sugiere que restringir el crecimiento del árbol para que cada hoja contenga al menos 5 muestras contribuye a reducir el sobreajuste, evitando que el modelo aprenda patrones demasiado específicos del conjunto de entrenamiento. Al imponer esta condición, se obtiene un modelo más generalizable, capaz de desempeñarse mejor en datos no vistos.\n",
    "En conclusión, ajustar correctamente el valor de min_samples_leaf se presenta como una estrategia efectiva de regularización, especialmente útil en conjuntos de datos con cierta variabilidad o ruido que podrían inducir al sobreajuste si no se controla la complejidad del árbol."
   ]
  },
  {
   "cell_type": "code",
   "execution_count": null,
   "metadata": {},
   "outputs": [],
   "source": []
  }
 ],
 "metadata": {
  "colab": {
   "provenance": []
  },
  "kernelspec": {
   "display_name": "Python 3 (ipykernel)",
   "language": "python",
   "name": "python3"
  },
  "language_info": {
   "codemirror_mode": {
    "name": "ipython",
    "version": 3
   },
   "file_extension": ".py",
   "mimetype": "text/x-python",
   "name": "python",
   "nbconvert_exporter": "python",
   "pygments_lexer": "ipython3",
   "version": "3.11.6"
  }
 },
 "nbformat": 4,
 "nbformat_minor": 4
}
