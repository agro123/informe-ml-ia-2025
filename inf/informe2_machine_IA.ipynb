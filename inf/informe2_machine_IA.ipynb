{
 "cells": [
  {
   "cell_type": "code",
   "execution_count": 129,
   "metadata": {
    "id": "CJbucJgpmm16"
   },
   "outputs": [],
   "source": [
    "import sklearn\n",
    "import numpy as np\n",
    "import pandas as pd\n",
    "import warnings\n",
    "warnings.filterwarnings('ignore')"
   ]
  },
  {
   "cell_type": "markdown",
   "metadata": {},
   "source": [
    "1. Leer el archivo depression.csv"
   ]
  },
  {
   "cell_type": "code",
   "execution_count": 184,
   "metadata": {},
   "outputs": [],
   "source": [
    "datos = pd.read_csv('depression.csv')"
   ]
  },
  {
   "cell_type": "code",
   "execution_count": 185,
   "metadata": {
    "colab": {
     "base_uri": "https://localhost:8080/",
     "height": 175
    },
    "id": "yte5P_CQFVfQ",
    "outputId": "0c4911ee-de9d-4715-a095-e98bab6c5704"
   },
   "outputs": [
    {
     "data": {
      "text/html": [
       "<div>\n",
       "<style scoped>\n",
       "    .dataframe tbody tr th:only-of-type {\n",
       "        vertical-align: middle;\n",
       "    }\n",
       "\n",
       "    .dataframe tbody tr th {\n",
       "        vertical-align: top;\n",
       "    }\n",
       "\n",
       "    .dataframe thead th {\n",
       "        text-align: right;\n",
       "    }\n",
       "</style>\n",
       "<table border=\"1\" class=\"dataframe\">\n",
       "  <thead>\n",
       "    <tr style=\"text-align: right;\">\n",
       "      <th></th>\n",
       "      <th>Gender</th>\n",
       "      <th>Sleep Duration</th>\n",
       "      <th>Degree</th>\n",
       "      <th>Suicidal Thoughts</th>\n",
       "      <th>Family History of Mental Illness</th>\n",
       "    </tr>\n",
       "  </thead>\n",
       "  <tbody>\n",
       "    <tr>\n",
       "      <th>count</th>\n",
       "      <td>27901</td>\n",
       "      <td>27901</td>\n",
       "      <td>27901</td>\n",
       "      <td>27901</td>\n",
       "      <td>27901</td>\n",
       "    </tr>\n",
       "    <tr>\n",
       "      <th>unique</th>\n",
       "      <td>2</td>\n",
       "      <td>5</td>\n",
       "      <td>5</td>\n",
       "      <td>2</td>\n",
       "      <td>2</td>\n",
       "    </tr>\n",
       "    <tr>\n",
       "      <th>top</th>\n",
       "      <td>Male</td>\n",
       "      <td>Less than 5 hours</td>\n",
       "      <td>Undergraduate</td>\n",
       "      <td>Yes</td>\n",
       "      <td>No</td>\n",
       "    </tr>\n",
       "    <tr>\n",
       "      <th>freq</th>\n",
       "      <td>15547</td>\n",
       "      <td>8310</td>\n",
       "      <td>12639</td>\n",
       "      <td>17656</td>\n",
       "      <td>14398</td>\n",
       "    </tr>\n",
       "  </tbody>\n",
       "</table>\n",
       "</div>"
      ],
      "text/plain": [
       "       Gender     Sleep Duration         Degree Suicidal Thoughts  \\\n",
       "count   27901              27901          27901             27901   \n",
       "unique      2                  5              5                 2   \n",
       "top      Male  Less than 5 hours  Undergraduate               Yes   \n",
       "freq    15547               8310          12639             17656   \n",
       "\n",
       "       Family History of Mental Illness  \n",
       "count                             27901  \n",
       "unique                                2  \n",
       "top                                  No  \n",
       "freq                              14398  "
      ]
     },
     "execution_count": 185,
     "metadata": {},
     "output_type": "execute_result"
    }
   ],
   "source": [
    "# Variables categóricas (tipo object)\n",
    "# ==============================================================================\n",
    "datos.select_dtypes(include=['object']).describe()"
   ]
  },
  {
   "cell_type": "code",
   "execution_count": 186,
   "metadata": {
    "colab": {
     "base_uri": "https://localhost:8080/",
     "height": 300
    },
    "id": "5ELB4JMSFZgy",
    "outputId": "334a3714-cb69-4dd9-93c3-d0ad7efd8452"
   },
   "outputs": [
    {
     "data": {
      "text/html": [
       "<div>\n",
       "<style scoped>\n",
       "    .dataframe tbody tr th:only-of-type {\n",
       "        vertical-align: middle;\n",
       "    }\n",
       "\n",
       "    .dataframe tbody tr th {\n",
       "        vertical-align: top;\n",
       "    }\n",
       "\n",
       "    .dataframe thead th {\n",
       "        text-align: right;\n",
       "    }\n",
       "</style>\n",
       "<table border=\"1\" class=\"dataframe\">\n",
       "  <thead>\n",
       "    <tr style=\"text-align: right;\">\n",
       "      <th></th>\n",
       "      <th>Depression</th>\n",
       "    </tr>\n",
       "  </thead>\n",
       "  <tbody>\n",
       "    <tr>\n",
       "      <th>count</th>\n",
       "      <td>27901.000000</td>\n",
       "    </tr>\n",
       "    <tr>\n",
       "      <th>mean</th>\n",
       "      <td>0.585499</td>\n",
       "    </tr>\n",
       "    <tr>\n",
       "      <th>std</th>\n",
       "      <td>0.492645</td>\n",
       "    </tr>\n",
       "    <tr>\n",
       "      <th>min</th>\n",
       "      <td>0.000000</td>\n",
       "    </tr>\n",
       "    <tr>\n",
       "      <th>25%</th>\n",
       "      <td>0.000000</td>\n",
       "    </tr>\n",
       "    <tr>\n",
       "      <th>50%</th>\n",
       "      <td>1.000000</td>\n",
       "    </tr>\n",
       "    <tr>\n",
       "      <th>75%</th>\n",
       "      <td>1.000000</td>\n",
       "    </tr>\n",
       "    <tr>\n",
       "      <th>max</th>\n",
       "      <td>1.000000</td>\n",
       "    </tr>\n",
       "  </tbody>\n",
       "</table>\n",
       "</div>"
      ],
      "text/plain": [
       "         Depression\n",
       "count  27901.000000\n",
       "mean       0.585499\n",
       "std        0.492645\n",
       "min        0.000000\n",
       "25%        0.000000\n",
       "50%        1.000000\n",
       "75%        1.000000\n",
       "max        1.000000"
      ]
     },
     "execution_count": 186,
     "metadata": {},
     "output_type": "execute_result"
    }
   ],
   "source": [
    "# Variables cuantitativas (tipo entero)\n",
    "# ==============================================================================\n",
    "datos.select_dtypes(include=['int64']).describe()"
   ]
  },
  {
   "cell_type": "code",
   "execution_count": 187,
   "metadata": {
    "colab": {
     "base_uri": "https://localhost:8080/",
     "height": 300
    },
    "id": "YuQRxSUFGnaD",
    "outputId": "804824b9-08b5-4ab8-afb0-a50aa28fd029"
   },
   "outputs": [
    {
     "data": {
      "text/html": [
       "<div>\n",
       "<style scoped>\n",
       "    .dataframe tbody tr th:only-of-type {\n",
       "        vertical-align: middle;\n",
       "    }\n",
       "\n",
       "    .dataframe tbody tr th {\n",
       "        vertical-align: top;\n",
       "    }\n",
       "\n",
       "    .dataframe thead th {\n",
       "        text-align: right;\n",
       "    }\n",
       "</style>\n",
       "<table border=\"1\" class=\"dataframe\">\n",
       "  <thead>\n",
       "    <tr style=\"text-align: right;\">\n",
       "      <th></th>\n",
       "      <th>Age</th>\n",
       "      <th>CGPA</th>\n",
       "      <th>Work/Study Hours</th>\n",
       "    </tr>\n",
       "  </thead>\n",
       "  <tbody>\n",
       "    <tr>\n",
       "      <th>count</th>\n",
       "      <td>27901.000000</td>\n",
       "      <td>27901.000000</td>\n",
       "      <td>27901.000000</td>\n",
       "    </tr>\n",
       "    <tr>\n",
       "      <th>mean</th>\n",
       "      <td>25.822300</td>\n",
       "      <td>7.656104</td>\n",
       "      <td>7.156984</td>\n",
       "    </tr>\n",
       "    <tr>\n",
       "      <th>std</th>\n",
       "      <td>4.905687</td>\n",
       "      <td>1.470707</td>\n",
       "      <td>3.707642</td>\n",
       "    </tr>\n",
       "    <tr>\n",
       "      <th>min</th>\n",
       "      <td>18.000000</td>\n",
       "      <td>0.000000</td>\n",
       "      <td>0.000000</td>\n",
       "    </tr>\n",
       "    <tr>\n",
       "      <th>25%</th>\n",
       "      <td>21.000000</td>\n",
       "      <td>6.290000</td>\n",
       "      <td>4.000000</td>\n",
       "    </tr>\n",
       "    <tr>\n",
       "      <th>50%</th>\n",
       "      <td>25.000000</td>\n",
       "      <td>7.770000</td>\n",
       "      <td>8.000000</td>\n",
       "    </tr>\n",
       "    <tr>\n",
       "      <th>75%</th>\n",
       "      <td>30.000000</td>\n",
       "      <td>8.920000</td>\n",
       "      <td>10.000000</td>\n",
       "    </tr>\n",
       "    <tr>\n",
       "      <th>max</th>\n",
       "      <td>59.000000</td>\n",
       "      <td>10.000000</td>\n",
       "      <td>12.000000</td>\n",
       "    </tr>\n",
       "  </tbody>\n",
       "</table>\n",
       "</div>"
      ],
      "text/plain": [
       "                Age          CGPA  Work/Study Hours\n",
       "count  27901.000000  27901.000000      27901.000000\n",
       "mean      25.822300      7.656104          7.156984\n",
       "std        4.905687      1.470707          3.707642\n",
       "min       18.000000      0.000000          0.000000\n",
       "25%       21.000000      6.290000          4.000000\n",
       "50%       25.000000      7.770000          8.000000\n",
       "75%       30.000000      8.920000         10.000000\n",
       "max       59.000000     10.000000         12.000000"
      ]
     },
     "execution_count": 187,
     "metadata": {},
     "output_type": "execute_result"
    }
   ],
   "source": [
    "# Variables cuantitativas (tipo float)\n",
    "# ==============================================================================\n",
    "datos.select_dtypes(include=['float64']).describe()"
   ]
  },
  {
   "cell_type": "markdown",
   "metadata": {},
   "source": [
    "2. Seleccionar aleatoriamente el 80% del conjunto de datos para entrenar y el 20% restante para las\n",
    "pruebas"
   ]
  },
  {
   "cell_type": "code",
   "execution_count": 188,
   "metadata": {
    "colab": {
     "base_uri": "https://localhost:8080/"
    },
    "id": "z7iRoGHOG7F7",
    "outputId": "bacdc23b-cf3b-4717-9b0e-a4378451405c"
   },
   "outputs": [
    {
     "name": "stdout",
     "output_type": "stream",
     "text": [
      "27901 22320 5581\n"
     ]
    }
   ],
   "source": [
    "from sklearn.model_selection import train_test_split\n",
    "\n",
    "N=len(datos)\n",
    "cTrain=int(N*0.8) # 80% para entrenar y 20% para probar\n",
    "cTest=N-cTrain\n",
    "print(N,cTrain,cTest)\n",
    "train_data,test_data= sklearn.model_selection.train_test_split(datos, train_size=cTrain, test_size=cTest)"
   ]
  },
  {
   "cell_type": "code",
   "execution_count": 189,
   "metadata": {},
   "outputs": [
    {
     "data": {
      "text/plain": [
       "(22320, 9)"
      ]
     },
     "execution_count": 189,
     "metadata": {},
     "output_type": "execute_result"
    }
   ],
   "source": [
    "train_data.shape"
   ]
  },
  {
   "cell_type": "code",
   "execution_count": 231,
   "metadata": {},
   "outputs": [
    {
     "data": {
      "text/html": [
       "<div>\n",
       "<style scoped>\n",
       "    .dataframe tbody tr th:only-of-type {\n",
       "        vertical-align: middle;\n",
       "    }\n",
       "\n",
       "    .dataframe tbody tr th {\n",
       "        vertical-align: top;\n",
       "    }\n",
       "\n",
       "    .dataframe thead th {\n",
       "        text-align: right;\n",
       "    }\n",
       "</style>\n",
       "<table border=\"1\" class=\"dataframe\">\n",
       "  <thead>\n",
       "    <tr style=\"text-align: right;\">\n",
       "      <th></th>\n",
       "      <th>Gender</th>\n",
       "      <th>Age</th>\n",
       "      <th>CGPA</th>\n",
       "      <th>Sleep Duration</th>\n",
       "      <th>Degree</th>\n",
       "      <th>Suicidal Thoughts</th>\n",
       "      <th>Work/Study Hours</th>\n",
       "      <th>Family History of Mental Illness</th>\n",
       "      <th>Depression</th>\n",
       "    </tr>\n",
       "  </thead>\n",
       "  <tbody>\n",
       "    <tr>\n",
       "      <th>17827</th>\n",
       "      <td>Male</td>\n",
       "      <td>31.0</td>\n",
       "      <td>8.74</td>\n",
       "      <td>5-6 hours</td>\n",
       "      <td>Postgraduate</td>\n",
       "      <td>Yes</td>\n",
       "      <td>10.0</td>\n",
       "      <td>No</td>\n",
       "      <td>1</td>\n",
       "    </tr>\n",
       "    <tr>\n",
       "      <th>7398</th>\n",
       "      <td>Male</td>\n",
       "      <td>33.0</td>\n",
       "      <td>9.95</td>\n",
       "      <td>More than 8 hours</td>\n",
       "      <td>High School</td>\n",
       "      <td>No</td>\n",
       "      <td>11.0</td>\n",
       "      <td>No</td>\n",
       "      <td>0</td>\n",
       "    </tr>\n",
       "    <tr>\n",
       "      <th>9339</th>\n",
       "      <td>Male</td>\n",
       "      <td>25.0</td>\n",
       "      <td>8.50</td>\n",
       "      <td>Less than 5 hours</td>\n",
       "      <td>High School</td>\n",
       "      <td>No</td>\n",
       "      <td>2.0</td>\n",
       "      <td>No</td>\n",
       "      <td>1</td>\n",
       "    </tr>\n",
       "    <tr>\n",
       "      <th>16837</th>\n",
       "      <td>Female</td>\n",
       "      <td>24.0</td>\n",
       "      <td>5.77</td>\n",
       "      <td>More than 8 hours</td>\n",
       "      <td>Postgraduate</td>\n",
       "      <td>No</td>\n",
       "      <td>3.0</td>\n",
       "      <td>No</td>\n",
       "      <td>0</td>\n",
       "    </tr>\n",
       "    <tr>\n",
       "      <th>11657</th>\n",
       "      <td>Female</td>\n",
       "      <td>31.0</td>\n",
       "      <td>5.76</td>\n",
       "      <td>7-8 hours</td>\n",
       "      <td>Doctorate</td>\n",
       "      <td>Yes</td>\n",
       "      <td>7.0</td>\n",
       "      <td>No</td>\n",
       "      <td>1</td>\n",
       "    </tr>\n",
       "  </tbody>\n",
       "</table>\n",
       "</div>"
      ],
      "text/plain": [
       "       Gender   Age  CGPA     Sleep Duration        Degree Suicidal Thoughts  \\\n",
       "17827    Male  31.0  8.74          5-6 hours  Postgraduate               Yes   \n",
       "7398     Male  33.0  9.95  More than 8 hours   High School                No   \n",
       "9339     Male  25.0  8.50  Less than 5 hours   High School                No   \n",
       "16837  Female  24.0  5.77  More than 8 hours  Postgraduate                No   \n",
       "11657  Female  31.0  5.76          7-8 hours     Doctorate               Yes   \n",
       "\n",
       "       Work/Study Hours Family History of Mental Illness  Depression  \n",
       "17827              10.0                               No           1  \n",
       "7398               11.0                               No           0  \n",
       "9339                2.0                               No           1  \n",
       "16837               3.0                               No           0  \n",
       "11657               7.0                               No           1  "
      ]
     },
     "execution_count": 231,
     "metadata": {},
     "output_type": "execute_result"
    }
   ],
   "source": [
    "train_data.head(5)"
   ]
  },
  {
   "cell_type": "markdown",
   "metadata": {},
   "source": [
    "3. Utilizar una estrategia para normalizar los datos numéricos y una forma de codificar los atributos\n",
    "categóricos"
   ]
  },
  {
   "cell_type": "markdown",
   "metadata": {},
   "source": [
    "## Normalizar los datos numéricos"
   ]
  },
  {
   "cell_type": "code",
   "execution_count": 229,
   "metadata": {},
   "outputs": [],
   "source": [
    "from sklearn.pipeline import Pipeline\n",
    "from sklearn.impute import SimpleImputer\n",
    "from sklearn.preprocessing import StandardScaler, MinMaxScaler\n",
    "\n",
    "num_cols = [\"Age\", \"CGPA\", \"Work/Study Hours\"]\n",
    "num_pipeline = Pipeline([\n",
    "        (\"imputer\", SimpleImputer(strategy=\"median\")),\n",
    "        (\"scaler\", StandardScaler())\n",
    "    ])"
   ]
  },
  {
   "cell_type": "markdown",
   "metadata": {},
   "source": [
    "### codificar datos categoricos"
   ]
  },
  {
   "cell_type": "code",
   "execution_count": 299,
   "metadata": {},
   "outputs": [],
   "source": [
    "from sklearn.preprocessing import OneHotEncoder, OrdinalEncoder\n",
    "from sklearn.pipeline import Pipeline\n",
    "from sklearn.impute import SimpleImputer\n",
    "\n",
    "# Label Encoding (binarias)\n",
    "cat_cols_le =  [\"Gender\", \"Suicidal Thoughts\", \"Family History of Mental Illness\"]\n",
    "cat_pipeline_le = Pipeline([\n",
    "    (\"imputer\", SimpleImputer(strategy=\"most_frequent\")),\n",
    "    (\"encoder\", OrdinalEncoder())  # funciona bien para columnas binarias\n",
    "])\n",
    "\n",
    "# One hot enconding\n",
    "cat_cols_ohe =  [\"Sleep Duration\", \"Degree\"]\n",
    "cat_pipeline_ohe = Pipeline([\n",
    "    (\"imputer\", SimpleImputer(strategy=\"most_frequent\")),\n",
    "    (\"cat_encoder\", OneHotEncoder(sparse_output=False))\n",
    "])"
   ]
  },
  {
   "cell_type": "markdown",
   "metadata": {},
   "source": [
    "### Pipeline completo"
   ]
  },
  {
   "cell_type": "code",
   "execution_count": 300,
   "metadata": {},
   "outputs": [],
   "source": [
    "from sklearn.compose import ColumnTransformer\n",
    "\n",
    "full_pipeline = ColumnTransformer([\n",
    "    (\"num\", num_pipeline, num_cols),\n",
    "    (\"cat_ohe\", cat_pipeline_ohe, cat_cols_ohe),\n",
    "    (\"cat_le\", cat_pipeline_le, cat_cols_le)\n",
    "])"
   ]
  },
  {
   "cell_type": "code",
   "execution_count": 301,
   "metadata": {},
   "outputs": [],
   "source": [
    "X_train = full_pipeline.fit_transform(train_data.drop(columns=[\"Depression\"]))"
   ]
  },
  {
   "cell_type": "code",
   "execution_count": 302,
   "metadata": {},
   "outputs": [
    {
     "data": {
      "text/plain": [
       "array([1.0542121 , 0.74156593, 0.77224103, 1.        , 0.        ,\n",
       "       0.        , 0.        , 0.        , 0.        , 0.        ,\n",
       "       0.        , 1.        , 0.        , 1.        , 1.        ,\n",
       "       0.        ])"
      ]
     },
     "execution_count": 302,
     "metadata": {},
     "output_type": "execute_result"
    }
   ],
   "source": [
    "X_train[0,:]"
   ]
  },
  {
   "cell_type": "code",
   "execution_count": 303,
   "metadata": {},
   "outputs": [
    {
     "data": {
      "text/plain": [
       "17827    1\n",
       "7398     0\n",
       "9339     1\n",
       "16837    0\n",
       "11657    1\n",
       "        ..\n",
       "17090    0\n",
       "24950    0\n",
       "25096    1\n",
       "954      0\n",
       "7310     0\n",
       "Name: Depression, Length: 22320, dtype: int64"
      ]
     },
     "execution_count": 303,
     "metadata": {},
     "output_type": "execute_result"
    }
   ],
   "source": [
    "y_train = train_data[\"Depression\"]\n",
    "y_train"
   ]
  },
  {
   "cell_type": "markdown",
   "metadata": {},
   "source": [
    "## Entrenamiento de las redes neuronales"
   ]
  },
  {
   "cell_type": "markdown",
   "metadata": {},
   "source": [
    "4. Configurar los hiperparámetros del árbol de decisión de la siguiente manera: criterion=gini,\n",
    "splitter=best, y random_state=123. Obtener 10 árboles de decisión que resultan de modificar el\n",
    "hiperparámetro max_depth desde 1 hasta 10 con incrementos de 1"
   ]
  },
  {
   "cell_type": "code",
   "execution_count": 319,
   "metadata": {},
   "outputs": [
    {
     "name": "stdout",
     "output_type": "stream",
     "text": [
      "terminado\n"
     ]
    }
   ],
   "source": [
    "from sklearn import tree\n",
    "from sklearn.metrics import accuracy_score\n",
    "from sklearn.model_selection import cross_val_score\n",
    "\n",
    "y_test = test_data[\"Depression\"]\n",
    "X_test = full_pipeline.fit_transform(test_data.drop(columns=[\"Depression\"]))\n",
    "\n",
    "results_gini = []\n",
    "for depth in range(1, 11):\n",
    "    modelo = tree.DecisionTreeClassifier(\n",
    "        criterion='gini',\n",
    "        splitter='best',\n",
    "        max_depth=depth,\n",
    "        random_state=123\n",
    "    )\n",
    "    modelo.fit(X_train, y_train)\n",
    "    score = cross_val_score(modelo, X_train, y_train, cv=5,scoring='accuracy')\n",
    "    y_pred = modelo.predict(X_test)\n",
    "    acc = accuracy_score(y_test, y_pred)\n",
    "    results_gini.append({'max_depth': depth, 'accuracy': score.mean(), 'test accuracy': acc})\n",
    "\n",
    "\n",
    "\n",
    "print(\"terminado\")"
   ]
  },
  {
   "cell_type": "code",
   "execution_count": 320,
   "metadata": {
    "scrolled": true
   },
   "outputs": [
    {
     "data": {
      "text/html": [
       "<div>\n",
       "<style scoped>\n",
       "    .dataframe tbody tr th:only-of-type {\n",
       "        vertical-align: middle;\n",
       "    }\n",
       "\n",
       "    .dataframe tbody tr th {\n",
       "        vertical-align: top;\n",
       "    }\n",
       "\n",
       "    .dataframe thead th {\n",
       "        text-align: right;\n",
       "    }\n",
       "</style>\n",
       "<table border=\"1\" class=\"dataframe\">\n",
       "  <thead>\n",
       "    <tr style=\"text-align: right;\">\n",
       "      <th></th>\n",
       "      <th>max_depth</th>\n",
       "      <th>accuracy</th>\n",
       "      <th>test accuracy</th>\n",
       "    </tr>\n",
       "  </thead>\n",
       "  <tbody>\n",
       "    <tr>\n",
       "      <th>0</th>\n",
       "      <td>1</td>\n",
       "      <td>0.784543</td>\n",
       "      <td>0.772621</td>\n",
       "    </tr>\n",
       "    <tr>\n",
       "      <th>1</th>\n",
       "      <td>2</td>\n",
       "      <td>0.784543</td>\n",
       "      <td>0.772621</td>\n",
       "    </tr>\n",
       "    <tr>\n",
       "      <th>2</th>\n",
       "      <td>3</td>\n",
       "      <td>0.784543</td>\n",
       "      <td>0.772621</td>\n",
       "    </tr>\n",
       "    <tr>\n",
       "      <th>3</th>\n",
       "      <td>4</td>\n",
       "      <td>0.786783</td>\n",
       "      <td>0.776205</td>\n",
       "    </tr>\n",
       "    <tr>\n",
       "      <th>4</th>\n",
       "      <td>5</td>\n",
       "      <td>0.784453</td>\n",
       "      <td>0.776205</td>\n",
       "    </tr>\n",
       "    <tr>\n",
       "      <th>5</th>\n",
       "      <td>6</td>\n",
       "      <td>0.784722</td>\n",
       "      <td>0.775847</td>\n",
       "    </tr>\n",
       "    <tr>\n",
       "      <th>6</th>\n",
       "      <td>7</td>\n",
       "      <td>0.783199</td>\n",
       "      <td>0.773159</td>\n",
       "    </tr>\n",
       "    <tr>\n",
       "      <th>7</th>\n",
       "      <td>8</td>\n",
       "      <td>0.780914</td>\n",
       "      <td>0.773696</td>\n",
       "    </tr>\n",
       "    <tr>\n",
       "      <th>8</th>\n",
       "      <td>9</td>\n",
       "      <td>0.774104</td>\n",
       "      <td>0.770471</td>\n",
       "    </tr>\n",
       "    <tr>\n",
       "      <th>9</th>\n",
       "      <td>10</td>\n",
       "      <td>0.765860</td>\n",
       "      <td>0.765454</td>\n",
       "    </tr>\n",
       "  </tbody>\n",
       "</table>\n",
       "</div>"
      ],
      "text/plain": [
       "   max_depth  accuracy  test accuracy\n",
       "0          1  0.784543       0.772621\n",
       "1          2  0.784543       0.772621\n",
       "2          3  0.784543       0.772621\n",
       "3          4  0.786783       0.776205\n",
       "4          5  0.784453       0.776205\n",
       "5          6  0.784722       0.775847\n",
       "6          7  0.783199       0.773159\n",
       "7          8  0.780914       0.773696\n",
       "8          9  0.774104       0.770471\n",
       "9         10  0.765860       0.765454"
      ]
     },
     "execution_count": 320,
     "metadata": {},
     "output_type": "execute_result"
    }
   ],
   "source": [
    "df_gini = pd.DataFrame(results_gini)\n",
    "# Accuracy con criterio Gini:\n",
    "df_gini"
   ]
  },
  {
   "cell_type": "code",
   "execution_count": null,
   "metadata": {},
   "outputs": [],
   "source": []
  }
 ],
 "metadata": {
  "colab": {
   "provenance": []
  },
  "kernelspec": {
   "display_name": "Python 3 (ipykernel)",
   "language": "python",
   "name": "python3"
  },
  "language_info": {
   "codemirror_mode": {
    "name": "ipython",
    "version": 3
   },
   "file_extension": ".py",
   "mimetype": "text/x-python",
   "name": "python",
   "nbconvert_exporter": "python",
   "pygments_lexer": "ipython3",
   "version": "3.11.6"
  }
 },
 "nbformat": 4,
 "nbformat_minor": 4
}
