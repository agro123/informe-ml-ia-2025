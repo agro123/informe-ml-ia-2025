{
  "cells": [
    {
      "cell_type": "markdown",
      "metadata": {
        "id": "4mjfctvGnCw1"
      },
      "source": [
        "# **Análisis de Depresión mediante Redes Neuronales**"
      ]
    },
    {
      "cell_type": "markdown",
      "metadata": {
        "id": "Dqpq-p8roMLw"
      },
      "source": [
        "En este proyecto  desarrollamos modelos de Machine Learning capaz de predecir la presencia de síntomas depresivos en estudiantes universitarios mediante el análisis de indicadores relacionados con su estilo de vida, hábitos académicos y salud mental. Para ello, se utiliza un conjunto de datos de 27,901 participantes, cada uno descrito mediante 9 atributos clave que incluyen edad, promedio académico (CGPA), duración del sueño, nivel de estudios, carga horaria, antecedentes familiares de enfermedades mentales y presencia de pensamientos suicidas. La variable objetivo Depression es binaria (1 = síntomas presentes, 0 = sin síntomas), constituyendo una herramienta potencial para la detección temprana de riesgos en el ámbito académico.\n",
        "\n",
        "Durante el desarrollo del trabajo, pusimos en práctica varios de los conceptos vistos en clase, como la configuración de modelos, la selección de parámetros adecuados y la evaluación del rendimiento. Más allá de obtener métricas favorables, el proceso nos permitió entender cómo pequeños cambios en la configuración pueden influir significativamente en los resultados. Además, trabajar con un caso tan cercano como la salud mental estudiantil nos ayudó a conectar la teoría con una problemática real, dándole mayor sentido a lo aprendido y reforzando nuestro interés por esta área."
      ]
    },
    {
      "cell_type": "markdown",
      "metadata": {
        "id": "ryK_shWcod2k"
      },
      "source": [
        "##### INTEGRANTES:\n",
        "  1. Jheison Estiben Gomez Muñoz -  2310215\n",
        "  2. Cristian Daniel Medina Ortiz - 2310117\n"
      ]
    },
    {
      "cell_type": "markdown",
      "metadata": {
        "id": "itnx-iuKozf2"
      },
      "source": [
        "### Preparación de los Datos"
      ]
    },
    {
      "cell_type": "markdown",
      "metadata": {
        "id": "RxdkWUXTp-QS"
      },
      "source": [
        "Paso 1: Comenzamos con la carga y preprocesamiento de los datos, paso fundamental antes del entrenamiento de los modelos."
      ]
    },
    {
      "cell_type": "code",
      "execution_count": 1,
      "metadata": {
        "colab": {
          "base_uri": "https://localhost:8080/",
          "height": 896
        },
        "id": "ok8Ztc0wgAG_",
        "outputId": "2adabac1-0637-4b65-f4a9-5b51aecf9ec0"
      },
      "outputs": [],
      "source": [
        "\n",
        "import pandas as pd\n",
        "import numpy as np\n",
        "import matplotlib.pyplot as plt\n",
        "import seaborn as sns\n",
        "\n",
        "# Preprocesamiento\n",
        "from sklearn.preprocessing import StandardScaler, OneHotEncoder\n",
        "from sklearn.compose import ColumnTransformer\n",
        "from sklearn.pipeline import make_pipeline\n",
        "\n",
        "# División y validación\n",
        "from sklearn.model_selection import train_test_split, learning_curve\n",
        "\n",
        "# Modelo\n",
        "from sklearn.neural_network import MLPClassifier\n",
        "\n",
        "# Evaluación\n",
        "from sklearn.metrics import accuracy_score, confusion_matrix, classification_report\n",
        "\n",
        "# Configuración de advertencias\n",
        "import warnings\n",
        "from sklearn.exceptions import ConvergenceWarning\n",
        "warnings.filterwarnings(\"ignore\", category=ConvergenceWarning)\n",
        "\n",
        "# Configuración de estilo de gráficos\n",
        "sns.set_style(\"whitegrid\")\n",
        "plt.rcParams['figure.figsize'] = (10, 6)\n",
        "plt.rcParams['font.size'] = 12\n",
        "\n",
        "# Carga del conjunto de datos\n",
        "df = pd.read_csv(\"depression.csv\")\n"
      ]
    },
    {
      "cell_type": "markdown",
      "metadata": {
        "id": "AuEJ4S0jgMl0"
      },
      "source": [
        "Paso 2: Seleccionar aleatoriamente el 80% del conjunto de datos para entrenar y el 20% restante para las pruebas"
      ]
    },
    {
      "cell_type": "code",
      "execution_count": 2,
      "metadata": {
        "colab": {
          "base_uri": "https://localhost:8080/"
        },
        "id": "Jj-trONDgH2P",
        "outputId": "8948c0aa-6249-4d4b-e151-092ca06078aa"
      },
      "outputs": [
        {
          "name": "stdout",
          "output_type": "stream",
          "text": [
            "Tamaño del conjunto de entrenamiento: 22320 muestras\n",
            "Tamaño del conjunto de prueba: 5581 muestras\n",
            "Proporción de clases en entrenamiento: {1: 0.5854838709677419, 0: 0.41451612903225804}\n",
            "Proporción de clases en prueba: {1: 0.5855581437018456, 0: 0.41444185629815444}\n"
          ]
        }
      ],
      "source": [
        "# Dividimos datos en características (X) y objetivo (y)\n",
        "X = df.drop('Depression', axis=1)\n",
        "y = df['Depression']\n",
        "\n",
        "# Dividimos en conjuntos de entrenamiento (80%) y prueba (20%)\n",
        "X_train, X_test, y_train, y_test = train_test_split(\n",
        "    X, y,\n",
        "    test_size=0.2,\n",
        "    random_state=123,\n",
        "    stratify=y  \n",
        ")\n",
        "\n",
        "print(f\"Tamaño del conjunto de entrenamiento: {X_train.shape[0]} muestras\")\n",
        "print(f\"Tamaño del conjunto de prueba: {X_test.shape[0]} muestras\")\n",
        "print(f\"Proporción de clases en entrenamiento: {y_train.value_counts(normalize=True).to_dict()}\")\n",
        "print(f\"Proporción de clases en prueba: {y_test.value_counts(normalize=True).to_dict()}\")"
      ]
    },
    {
      "cell_type": "markdown",
      "metadata": {
        "id": "CxOmM3CxgQRw"
      },
      "source": [
        "Paso 3: Utilizar una estrategia para normalizar los datos numéricos y una forma de codificar los atributos categóricos"
      ]
    },
    {
      "cell_type": "code",
      "execution_count": 3,
      "metadata": {
        "colab": {
          "base_uri": "https://localhost:8080/"
        },
        "id": "e4REzhrigSKc",
        "outputId": "5729332f-7a70-4a75-9fac-0865a1b77b56"
      },
      "outputs": [
        {
          "name": "stdout",
          "output_type": "stream",
          "text": [
            "Forma de los datos de entrenamiento transformados: (22320, 14)\n",
            "Número de características después del preprocesamiento: 14\n"
          ]
        }
      ],
      "source": [
        "# Identificamos columnas numéricas y categóricas\n",
        "numeric_cols = ['Age', 'CGPA', 'Work/Study Hours']\n",
        "categorical_cols = ['Gender', 'Sleep Duration', 'Degree', 'Suicidal Thoughts', 'Family History of Mental Illness']\n",
        "\n",
        "preprocessor = ColumnTransformer(\n",
        "    transformers=[\n",
        "        ('num', StandardScaler(), numeric_cols),\n",
        "        ('cat', OneHotEncoder(drop='first', handle_unknown='ignore'), categorical_cols)\n",
        "    ],\n",
        "    remainder='passthrough'\n",
        ")\n",
        "\n",
        "# Aplicamos transformaciones\n",
        "X_train_prep = preprocessor.fit_transform(X_train)\n",
        "X_test_prep = preprocessor.transform(X_test)\n",
        "\n",
        "# Obtenemos nombres de características después de one-hot encoding\n",
        "cat_encoder = preprocessor.named_transformers_['cat']\n",
        "new_cat_cols = cat_encoder.get_feature_names_out(categorical_cols)\n",
        "all_feature_names = np.concatenate([numeric_cols, new_cat_cols])\n",
        "\n",
        "print(f\"Forma de los datos de entrenamiento transformados: {X_train_prep.shape}\")\n",
        "print(f\"Número de características después del preprocesamiento: {X_train_prep.shape[1]}\")"
      ]
    },
    {
      "cell_type": "markdown",
      "metadata": {
        "id": "B0QZDqRegT7n"
      },
      "source": [
        "Paso 4: Construir 5 redes neuronales variando en la topología de la red la cantidad de capas ocultas y de neuronas por cada capa oculta. Puede también variar los hiperparámetros solver y la función de activación. En todas las pruebas debe usar un random_state=123.\n"
      ]
    },
    {
      "cell_type": "code",
      "execution_count": 4,
      "metadata": {
        "colab": {
          "base_uri": "https://localhost:8080/",
          "height": 675
        },
        "id": "TzKIQBXqgW_Z",
        "outputId": "bb5f52b1-642c-4bd2-d3bf-6c84b4ec9940"
      },
      "outputs": [
        {
          "name": "stdout",
          "output_type": "stream",
          "text": [
            "\n",
            "Entrenando modelo: 1 Capa (50)\n",
            "- Arquitectura: (50,)\n",
            "- Solver: adam, Activación: relu\n",
            "Accuracy: 0.7848, Épocas entrenadas: 135\n",
            "\n",
            "Entrenando modelo: 2 Capas (100,50)\n",
            "- Arquitectura: (100, 50)\n",
            "- Solver: sgd, Activación: tanh\n",
            "Accuracy: 0.7844, Épocas entrenadas: 55\n",
            "\n",
            "Entrenando modelo: 3 Capas (150,100,50)\n",
            "- Arquitectura: (150, 100, 50)\n",
            "- Solver: adam, Activación: logistic\n",
            "Accuracy: 0.7852, Épocas entrenadas: 75\n",
            "\n",
            "Entrenando modelo: 1 Capa Ancha (200)\n",
            "- Arquitectura: (200,)\n",
            "- Solver: lbfgs, Activación: relu\n",
            "Accuracy: 0.7506, Épocas entrenadas: 1000\n",
            "\n",
            "Entrenando modelo: 2 Capas (80,30)\n",
            "- Arquitectura: (80, 30)\n",
            "- Solver: adam, Activación: tanh\n",
            "Accuracy: 0.7844, Épocas entrenadas: 128\n",
            "\n",
            "Resumen de resultados:\n"
          ]
        },
        {
          "data": {
            "text/html": [
              "<div>\n",
              "<style scoped>\n",
              "    .dataframe tbody tr th:only-of-type {\n",
              "        vertical-align: middle;\n",
              "    }\n",
              "\n",
              "    .dataframe tbody tr th {\n",
              "        vertical-align: top;\n",
              "    }\n",
              "\n",
              "    .dataframe thead th {\n",
              "        text-align: right;\n",
              "    }\n",
              "</style>\n",
              "<table border=\"1\" class=\"dataframe\">\n",
              "  <thead>\n",
              "    <tr style=\"text-align: right;\">\n",
              "      <th></th>\n",
              "      <th>Modelo</th>\n",
              "      <th>Capas Ocultas</th>\n",
              "      <th>Solver</th>\n",
              "      <th>Activación</th>\n",
              "      <th>Accuracy</th>\n",
              "      <th>Épocas</th>\n",
              "    </tr>\n",
              "  </thead>\n",
              "  <tbody>\n",
              "    <tr>\n",
              "      <th>0</th>\n",
              "      <td>1 Capa (50)</td>\n",
              "      <td>(50,)</td>\n",
              "      <td>adam</td>\n",
              "      <td>relu</td>\n",
              "      <td>0.784806</td>\n",
              "      <td>135</td>\n",
              "    </tr>\n",
              "    <tr>\n",
              "      <th>1</th>\n",
              "      <td>2 Capas (100,50)</td>\n",
              "      <td>(100, 50)</td>\n",
              "      <td>sgd</td>\n",
              "      <td>tanh</td>\n",
              "      <td>0.784447</td>\n",
              "      <td>55</td>\n",
              "    </tr>\n",
              "    <tr>\n",
              "      <th>2</th>\n",
              "      <td>3 Capas (150,100,50)</td>\n",
              "      <td>(150, 100, 50)</td>\n",
              "      <td>adam</td>\n",
              "      <td>logistic</td>\n",
              "      <td>0.785164</td>\n",
              "      <td>75</td>\n",
              "    </tr>\n",
              "    <tr>\n",
              "      <th>3</th>\n",
              "      <td>1 Capa Ancha (200)</td>\n",
              "      <td>(200,)</td>\n",
              "      <td>lbfgs</td>\n",
              "      <td>relu</td>\n",
              "      <td>0.750582</td>\n",
              "      <td>1000</td>\n",
              "    </tr>\n",
              "    <tr>\n",
              "      <th>4</th>\n",
              "      <td>2 Capas (80,30)</td>\n",
              "      <td>(80, 30)</td>\n",
              "      <td>adam</td>\n",
              "      <td>tanh</td>\n",
              "      <td>0.784447</td>\n",
              "      <td>128</td>\n",
              "    </tr>\n",
              "  </tbody>\n",
              "</table>\n",
              "</div>"
            ],
            "text/plain": [
              "                 Modelo   Capas Ocultas Solver Activación  Accuracy  Épocas\n",
              "0           1 Capa (50)           (50,)   adam       relu  0.784806     135\n",
              "1      2 Capas (100,50)       (100, 50)    sgd       tanh  0.784447      55\n",
              "2  3 Capas (150,100,50)  (150, 100, 50)   adam   logistic  0.785164      75\n",
              "3    1 Capa Ancha (200)          (200,)  lbfgs       relu  0.750582    1000\n",
              "4       2 Capas (80,30)        (80, 30)   adam       tanh  0.784447     128"
            ]
          },
          "metadata": {},
          "output_type": "display_data"
        }
      ],
      "source": [
        "# Definimos las configuraciones de las redes\n",
        "configurations = [\n",
        "    # Config 1: 1 capa oculta (50 neuronas)\n",
        "    {\n",
        "        'name': \"1 Capa (50)\",\n",
        "        'hidden_layer_sizes': (50,),\n",
        "        'solver': 'adam',\n",
        "        'activation': 'relu'\n",
        "    },\n",
        "    # Config 2: 2 capas ocultas (100, 50)\n",
        "    {\n",
        "        'name': \"2 Capas (100,50)\",\n",
        "        'hidden_layer_sizes': (100, 50),\n",
        "        'solver': 'sgd',\n",
        "        'activation': 'tanh'\n",
        "    },\n",
        "    # Config 3: 3 capas ocultas (150, 100, 50)\n",
        "    {\n",
        "        'name': \"3 Capas (150,100,50)\",\n",
        "        'hidden_layer_sizes': (150, 100, 50),\n",
        "        'solver': 'adam',\n",
        "        'activation': 'logistic'\n",
        "    },\n",
        "    # Config 4: 1 capa ancha (200 neuronas)\n",
        "    {\n",
        "        'name': \"1 Capa Ancha (200)\",\n",
        "        'hidden_layer_sizes': (200,),\n",
        "        'solver': 'lbfgs',\n",
        "        'activation': 'relu'\n",
        "    },\n",
        "    # Config 5: 2 capas estrechas (80, 30)\n",
        "    {\n",
        "        'name': \"2 Capas (80,30)\",\n",
        "        'hidden_layer_sizes': (80, 30),\n",
        "        'solver': 'adam',\n",
        "        'activation': 'tanh'\n",
        "    }\n",
        "]\n",
        "\n",
        "# Entrenamos y evaluamos los modelos definidos anteriormente\n",
        "results = []\n",
        "models = []\n",
        "\n",
        "for config in configurations:\n",
        "    print(f\"\\nEntrenando modelo: {config['name']}\")\n",
        "    print(f\"- Arquitectura: {config['hidden_layer_sizes']}\")\n",
        "    print(f\"- Solver: {config['solver']}, Activación: {config['activation']}\")\n",
        "\n",
        "    # Creamos los pipeline con StandardScaler y MLPClassifier\n",
        "    pipeline = make_pipeline(\n",
        "        StandardScaler(),\n",
        "        MLPClassifier(\n",
        "            hidden_layer_sizes=config['hidden_layer_sizes'],\n",
        "            solver=config['solver'],\n",
        "            activation=config['activation'],\n",
        "            random_state=123,\n",
        "            max_iter=1000,\n",
        "            early_stopping=True,\n",
        "            n_iter_no_change=50\n",
        "        )\n",
        "    )\n",
        "\n",
        "    # Entrenamos el pipeline\n",
        "    pipeline.fit(X_train_prep, y_train)\n",
        "\n",
        "    # Evaluamos el modelo\n",
        "    y_pred = pipeline.predict(X_test_prep)\n",
        "    acc = accuracy_score(y_test, y_pred)\n",
        "\n",
        "    # Accedemos al modelo interno\n",
        "    mlp_model = pipeline.named_steps['mlpclassifier']\n",
        "\n",
        "    # Almacenamos los resultados\n",
        "    results.append({\n",
        "        'Modelo': config['name'],\n",
        "        'Capas Ocultas': str(config['hidden_layer_sizes']),\n",
        "        'Solver': config['solver'],\n",
        "        'Activación': config['activation'],\n",
        "        'Accuracy': acc,\n",
        "        'Épocas': mlp_model.n_iter_\n",
        "    })\n",
        "\n",
        "    models.append(pipeline)\n",
        "    print(f\"Accuracy: {acc:.4f}, Épocas entrenadas: {mlp_model.n_iter_}\")\n",
        "\n",
        "# Convertimos los resultados a DataFrame\n",
        "results_df = pd.DataFrame(results)\n",
        "print(\"\\nResumen de resultados:\")\n",
        "display(results_df)"
      ]
    },
    {
      "cell_type": "markdown",
      "metadata": {
        "id": "sqZc6tSlgYsE"
      },
      "source": [
        "Paso 5: Incluya en el notebook una tabla con el accuracy obtenido sobre el conjunto de prueba para las 5 redes neuronales del punto anterior\n"
      ]
    },
    {
      "cell_type": "code",
      "execution_count": 5,
      "metadata": {
        "colab": {
          "base_uri": "https://localhost:8080/",
          "height": 825
        },
        "id": "jG8W7RBrgaMJ",
        "outputId": "a1c24ec5-8468-4be6-c91c-cdd43dc75e86"
      },
      "outputs": [
        {
          "name": "stdout",
          "output_type": "stream",
          "text": [
            "\n",
            "Resultados comparativos de las 5 configuraciones:\n"
          ]
        },
        {
          "data": {
            "text/html": [
              "<div>\n",
              "<style scoped>\n",
              "    .dataframe tbody tr th:only-of-type {\n",
              "        vertical-align: middle;\n",
              "    }\n",
              "\n",
              "    .dataframe tbody tr th {\n",
              "        vertical-align: top;\n",
              "    }\n",
              "\n",
              "    .dataframe thead th {\n",
              "        text-align: right;\n",
              "    }\n",
              "</style>\n",
              "<table border=\"1\" class=\"dataframe\">\n",
              "  <thead>\n",
              "    <tr style=\"text-align: right;\">\n",
              "      <th></th>\n",
              "      <th>Modelo</th>\n",
              "      <th>Capas Ocultas</th>\n",
              "      <th>Solver</th>\n",
              "      <th>Activación</th>\n",
              "      <th>Accuracy</th>\n",
              "    </tr>\n",
              "  </thead>\n",
              "  <tbody>\n",
              "    <tr>\n",
              "      <th>0</th>\n",
              "      <td>1 Capa (50)</td>\n",
              "      <td>(50,)</td>\n",
              "      <td>adam</td>\n",
              "      <td>relu</td>\n",
              "      <td>0.784806</td>\n",
              "    </tr>\n",
              "    <tr>\n",
              "      <th>1</th>\n",
              "      <td>2 Capas (100,50)</td>\n",
              "      <td>(100, 50)</td>\n",
              "      <td>sgd</td>\n",
              "      <td>tanh</td>\n",
              "      <td>0.784447</td>\n",
              "    </tr>\n",
              "    <tr>\n",
              "      <th>2</th>\n",
              "      <td>3 Capas (150,100,50)</td>\n",
              "      <td>(150, 100, 50)</td>\n",
              "      <td>adam</td>\n",
              "      <td>logistic</td>\n",
              "      <td>0.785164</td>\n",
              "    </tr>\n",
              "    <tr>\n",
              "      <th>3</th>\n",
              "      <td>1 Capa Ancha (200)</td>\n",
              "      <td>(200,)</td>\n",
              "      <td>lbfgs</td>\n",
              "      <td>relu</td>\n",
              "      <td>0.750582</td>\n",
              "    </tr>\n",
              "    <tr>\n",
              "      <th>4</th>\n",
              "      <td>2 Capas (80,30)</td>\n",
              "      <td>(80, 30)</td>\n",
              "      <td>adam</td>\n",
              "      <td>tanh</td>\n",
              "      <td>0.784447</td>\n",
              "    </tr>\n",
              "  </tbody>\n",
              "</table>\n",
              "</div>"
            ],
            "text/plain": [
              "                 Modelo   Capas Ocultas Solver Activación  Accuracy\n",
              "0           1 Capa (50)           (50,)   adam       relu  0.784806\n",
              "1      2 Capas (100,50)       (100, 50)    sgd       tanh  0.784447\n",
              "2  3 Capas (150,100,50)  (150, 100, 50)   adam   logistic  0.785164\n",
              "3    1 Capa Ancha (200)          (200,)  lbfgs       relu  0.750582\n",
              "4       2 Capas (80,30)        (80, 30)   adam       tanh  0.784447"
            ]
          },
          "metadata": {},
          "output_type": "display_data"
        },
        {
          "data": {
            "image/png": "[encoded data removed]",
            "text/plain": [
              "<Figure size 1200x600 with 1 Axes>"
            ]
          },
          "metadata": {},
          "output_type": "display_data"
        }
      ],
      "source": [
        "# Creamos una tabla de resultados\n",
        "print(\"\\nResultados comparativos de las 5 configuraciones:\")\n",
        "display(results_df[['Modelo', 'Capas Ocultas', 'Solver', 'Activación', 'Accuracy']])\n",
        "\n",
        "# Visualizamos la comparación de accuracy\n",
        "plt.figure(figsize=(12, 6))\n",
        "sns.barplot(x='Modelo', y='Accuracy', hue='Modelo', data=results_df, palette='viridis', legend=False)\n",
        "plt.axhline(results_df['Accuracy'].max(), color='red', linestyle='--', alpha=0.7)\n",
        "plt.title('Comparación de Accuracy en Diferentes Configuraciones de Red Neuronal')\n",
        "plt.ylabel('Accuracy')\n",
        "plt.xlabel('Configuración del Modelo')\n",
        "plt.ylim(0.5, 1.0)\n",
        "plt.xticks(rotation=15)\n",
        "plt.tight_layout()\n",
        "plt.show()"
      ]
    },
    {
      "cell_type": "markdown",
      "metadata": {
        "id": "kObw3DKpgehI"
      },
      "source": [
        "Paso 6: Indique en el notebook, usando una celda de tipo texto, los hiperparámetros que por el momento le permiten obtener la red con mayor accuracy\n"
      ]
    },
    {
      "cell_type": "code",
      "execution_count": 6,
      "metadata": {
        "colab": {
          "base_uri": "https://localhost:8080/"
        },
        "id": "5vVvRQgdggtS",
        "outputId": "12ec6e36-8aee-4d96-8695-0f1b8e44ec34"
      },
      "outputs": [
        {
          "name": "stdout",
          "output_type": "stream",
          "text": [
            "\n",
            "Mejor configuración encontrada:\n",
            "- Modelo: 3 Capas (150,100,50)\n",
            "- Accuracy: 0.7852\n",
            "- Capas: (150, 100, 50)\n",
            "- Solver: adam\n",
            "- Función de activación: logistic\n"
          ]
        }
      ],
      "source": [
        "# buscamos la mejor configuración \n",
        "best_idx = results_df['Accuracy'].idxmax()\n",
        "best_config = results_df.loc[best_idx]\n",
        "\n",
        "print(\"\\nMejor configuración encontrada:\")\n",
        "print(f\"- Modelo: {best_config['Modelo']}\")\n",
        "print(f\"- Accuracy: {best_config['Accuracy']:.4f}\")\n",
        "print(f\"- Capas: {best_config['Capas Ocultas']}\")\n",
        "print(f\"- Solver: {best_config['Solver']}\")\n",
        "print(f\"- Función de activación: {best_config['Activación']}\")\n"
      ]
    },
    {
      "cell_type": "markdown",
      "metadata": {
        "id": "w-8TTWdYgjhp"
      },
      "source": [
        "Paso 7: Seleccione uno de los hiperparámetros disponibles en la documentación (https://scikit-learn.org/stable/modules/generated/sklearn.neural_network.MLPClassifier.html) que sea diferente al solver, a la función de activación, y al random_state. Realice dos variaciones en el hiperparámetro seleccionado manteniendo los otros hiperparámetros del punto anterior. Indique el accuracy obtenido al modificar el hiperparámetro seleccionado y analice si la red mejora, empeora, o mantiene su exactitud. Incluya en el notebook dicho análisis\n"
      ]
    },
    {
      "cell_type": "code",
      "execution_count": 7,
      "metadata": {
        "colab": {
          "base_uri": "https://localhost:8080/",
          "height": 536
        },
        "id": "lUlcmFoYgleY",
        "outputId": "13fd4821-a983-47e8-cd4d-b1e57126e206"
      },
      "outputs": [
        {
          "name": "stdout",
          "output_type": "stream",
          "text": [
            "\n",
            "Experimentando con el hiperparámetro alpha en el modelo: 3 Capas (150,100,50)\n",
            "\n",
            "Entrenando con alpha = 0.0001\n",
            "Accuracy: 0.7859, Épocas: 72\n",
            "\n",
            "Entrenando con alpha = 0.001\n",
            "Accuracy: 0.7855, Épocas: 72\n",
            "\n",
            "Entrenando con alpha = 0.01\n",
            "Accuracy: 0.7859, Épocas: 58\n",
            "\n",
            "Entrenando con alpha = 0.1\n",
            "Accuracy: 0.7857, Épocas: 58\n",
            "\n",
            "Entrenando con alpha = 1.0\n",
            "Accuracy: 0.5856, Épocas: 52\n",
            "\n",
            "Resultados variando alpha:\n"
          ]
        },
        {
          "data": {
            "text/html": [
              "<div>\n",
              "<style scoped>\n",
              "    .dataframe tbody tr th:only-of-type {\n",
              "        vertical-align: middle;\n",
              "    }\n",
              "\n",
              "    .dataframe tbody tr th {\n",
              "        vertical-align: top;\n",
              "    }\n",
              "\n",
              "    .dataframe thead th {\n",
              "        text-align: right;\n",
              "    }\n",
              "</style>\n",
              "<table border=\"1\" class=\"dataframe\">\n",
              "  <thead>\n",
              "    <tr style=\"text-align: right;\">\n",
              "      <th></th>\n",
              "      <th>alpha</th>\n",
              "      <th>Accuracy</th>\n",
              "      <th>Épocas</th>\n",
              "      <th>Cambio</th>\n",
              "    </tr>\n",
              "  </thead>\n",
              "  <tbody>\n",
              "    <tr>\n",
              "      <th>0</th>\n",
              "      <td>0.0001</td>\n",
              "      <td>0.785881</td>\n",
              "      <td>72</td>\n",
              "      <td>Mejora</td>\n",
              "    </tr>\n",
              "    <tr>\n",
              "      <th>1</th>\n",
              "      <td>0.0010</td>\n",
              "      <td>0.785522</td>\n",
              "      <td>72</td>\n",
              "      <td>Mejora</td>\n",
              "    </tr>\n",
              "    <tr>\n",
              "      <th>2</th>\n",
              "      <td>0.0100</td>\n",
              "      <td>0.785881</td>\n",
              "      <td>58</td>\n",
              "      <td>Mejora</td>\n",
              "    </tr>\n",
              "    <tr>\n",
              "      <th>3</th>\n",
              "      <td>0.1000</td>\n",
              "      <td>0.785701</td>\n",
              "      <td>58</td>\n",
              "      <td>Mejora</td>\n",
              "    </tr>\n",
              "    <tr>\n",
              "      <th>4</th>\n",
              "      <td>1.0000</td>\n",
              "      <td>0.585558</td>\n",
              "      <td>52</td>\n",
              "      <td>Empeora</td>\n",
              "    </tr>\n",
              "  </tbody>\n",
              "</table>\n",
              "</div>"
            ],
            "text/plain": [
              "    alpha  Accuracy  Épocas   Cambio\n",
              "0  0.0001  0.785881      72   Mejora\n",
              "1  0.0010  0.785522      72   Mejora\n",
              "2  0.0100  0.785881      58   Mejora\n",
              "3  0.1000  0.785701      58   Mejora\n",
              "4  1.0000  0.585558      52  Empeora"
            ]
          },
          "metadata": {},
          "output_type": "display_data"
        }
      ],
      "source": [
        "# Usamos el mejor modelo como base\n",
        "best_model = models[best_idx]\n",
        "best_mlp = best_model.named_steps['mlpclassifier']  \n",
        "print(f\"\\nExperimentando con el hiperparámetro alpha en el modelo: {best_config['Modelo']}\")\n",
        "\n",
        "# Probaremos diferentes valores de alpha\n",
        "alpha_values = [0.0001, 0.001, 0.01, 0.1, 1.0]\n",
        "alpha_results = []\n",
        "\n",
        "for alpha in alpha_values:\n",
        "    print(f\"\\nEntrenando con alpha = {alpha}\")\n",
        "\n",
        "    mlp = MLPClassifier(\n",
        "        hidden_layer_sizes=best_mlp.hidden_layer_sizes,\n",
        "        solver=best_mlp.solver,\n",
        "        activation=best_mlp.activation,\n",
        "        alpha=alpha,\n",
        "        random_state=123,\n",
        "        max_iter=1000,\n",
        "        early_stopping=True,\n",
        "        n_iter_no_change=50\n",
        "    )\n",
        "    mlp.fit(X_train_prep, y_train)\n",
        "\n",
        "    y_pred = mlp.predict(X_test_prep)\n",
        "    acc = accuracy_score(y_test, y_pred)\n",
        "\n",
        "    alpha_results.append({\n",
        "        'alpha': alpha,\n",
        "        'Accuracy': acc,\n",
        "        'Épocas': mlp.n_iter_,\n",
        "        'Cambio': 'Mejora' if acc > best_config['Accuracy'] else\n",
        "                  'Empeora' if acc < best_config['Accuracy'] else 'Mantiene'\n",
        "    })\n",
        "\n",
        "    print(f\"Accuracy: {acc:.4f}, Épocas: {mlp.n_iter_}\")\n",
        "\n",
        "# Convertimos los resultados a DataFrame\n",
        "alpha_df = pd.DataFrame(alpha_results)\n",
        "print(\"\\nResultados variando alpha:\")\n",
        "display(alpha_df)\n",
        "\n",
        "best_alpha_row = alpha_df.loc[alpha_df['Accuracy'].idxmax()]\n",
        "\n"
      ]
    },
    {
      "cell_type": "markdown",
      "metadata": {},
      "source": [
        "Análisis de los resultados:\n",
        "\n",
        "Seleccionamos el hiperparámetro alpha, que controla la regularización L2 del modelo (una técnica que penaliza los pesos grandes en la red neuronal para evitar que se sobreentrene o memorice demasiado los datos de entrenamiento). Probamos cinco valores diferentes, manteniendo el resto de parámetros igual al mejor modelo anterior.\n",
        "\n",
        "Observamos que con valores bajos de alpha (entre 0.0001 y 0.1), el modelo mantuvo una buena precisión, con un accuracy cercano a 0.7859. Sin embargo, al usar alpha = 1.0, el rendimiento disminuyó notablemente a 0.5856, lo que indica que una regularización muy fuerte afecta negativamente el aprendizaje.\n",
        "\n",
        "Concluimos que el modelo funciona mejor con valores bajos de alpha, ya que mantiene una buena exactitud sin limitar la capacidad de generalización del modelo."
      ]
    },
    {
      "cell_type": "markdown",
      "metadata": {
        "id": "bIVaUmXLgnNp"
      },
      "source": [
        "### Entrenamiento y evaluación final del modelo optimizado\n",
        "\n"
      ]
    },
    {
      "cell_type": "code",
      "execution_count": 8,
      "metadata": {
        "colab": {
          "base_uri": "https://localhost:8080/",
          "height": 1000
        },
        "id": "ojLBWWuQgrUO",
        "outputId": "a3608865-8508-4a33-af32-001bca135f36"
      },
      "outputs": [
        {
          "name": "stdout",
          "output_type": "stream",
          "text": [
            "\n",
            "Entrenando modelo final con alpha=0.0001\n",
            "Accuracy final: 0.7852\n"
          ]
        },
        {
          "data": {
            "image/png": "[encoded data removed]",
            "text/plain": [
              "<Figure size 800x600 with 2 Axes>"
            ]
          },
          "metadata": {},
          "output_type": "display_data"
        },
        {
          "name": "stdout",
          "output_type": "stream",
          "text": [
            "\n",
            "Reporte de Clasificación:\n",
            "              precision    recall  f1-score   support\n",
            "\n",
            "No Depresión       0.77      0.69      0.73      2313\n",
            "   Depresión       0.80      0.85      0.82      3268\n",
            "\n",
            "    accuracy                           0.79      5581\n",
            "   macro avg       0.78      0.77      0.78      5581\n",
            "weighted avg       0.78      0.79      0.78      5581\n",
            "\n"
          ]
        },
        {
          "data": {
            "image/png": "[encoded data removed]",
            "text/plain": [
              "<Figure size 1000x600 with 1 Axes>"
            ]
          },
          "metadata": {},
          "output_type": "display_data"
        }
      ],
      "source": [
        "# Paso adicional: Evaluación del mejor modelo\n",
        "\n",
        "# Obtener configuración del mejor modelo\n",
        "best_mlp = best_model.named_steps['mlpclassifier']\n",
        "best_alpha = best_alpha_row['alpha']\n",
        "print(f\"\\nEntrenando modelo final con alpha={best_alpha}\")\n",
        "\n",
        "# Crear pipeline con escalador + mejor configuración\n",
        "mlp_final = make_pipeline(\n",
        "    StandardScaler(),\n",
        "    MLPClassifier(\n",
        "        hidden_layer_sizes=best_mlp.hidden_layer_sizes,\n",
        "        solver=best_mlp.solver,\n",
        "        activation=best_mlp.activation,\n",
        "        alpha=best_alpha,\n",
        "        random_state=123,\n",
        "        max_iter=1000\n",
        "    )\n",
        ")\n",
        "\n",
        "# Entrenar el modelo final\n",
        "mlp_final.fit(X_train_prep, y_train)\n",
        "\n",
        "# Evaluar en conjunto de prueba\n",
        "y_pred = mlp_final.predict(X_test_prep)\n",
        "final_acc = accuracy_score(y_test, y_pred)\n",
        "\n",
        "print(f\"Accuracy final: {final_acc:.4f}\")\n",
        "\n",
        "# Matriz de confusión\n",
        "cm = confusion_matrix(y_test, y_pred)\n",
        "plt.figure(figsize=(8, 6))\n",
        "sns.heatmap(cm, annot=True, fmt='d', cmap='Blues',\n",
        "            xticklabels=['No Depresión', 'Depresión'],\n",
        "            yticklabels=['No Depresión', 'Depresión'])\n",
        "plt.title('Matriz de Confusión - Mejor Modelo')\n",
        "plt.ylabel('Etiqueta Real')\n",
        "plt.xlabel('Predicción')\n",
        "plt.show()\n",
        "\n",
        "# Reporte de clasificación\n",
        "print(\"\\nReporte de Clasificación:\")\n",
        "print(classification_report(y_test, y_pred, target_names=['No Depresión', 'Depresión']))\n",
        "\n",
        "# Curva de aprendizaje\n",
        "train_sizes, train_scores, test_scores = learning_curve(\n",
        "    mlp_final, X_train_prep, y_train,\n",
        "    train_sizes=np.linspace(0.1, 1.0, 10),\n",
        "    cv=5, scoring='accuracy', n_jobs=-1\n",
        ")\n",
        "\n",
        "train_mean = np.mean(train_scores, axis=1)\n",
        "train_std = np.std(train_scores, axis=1)\n",
        "test_mean = np.mean(test_scores, axis=1)\n",
        "test_std = np.std(test_scores, axis=1)\n",
        "\n",
        "plt.figure(figsize=(10, 6))\n",
        "plt.plot(train_sizes, train_mean, color='blue', marker='o', markersize=5, label='Entrenamiento')\n",
        "plt.fill_between(train_sizes, train_mean + train_std, train_mean - train_std, alpha=0.15, color='blue')\n",
        "plt.plot(train_sizes, test_mean, color='green', linestyle='--', marker='s', markersize=5, label='Validación')\n",
        "plt.fill_between(train_sizes, test_mean + test_std, test_mean - test_std, alpha=0.15, color='green')\n",
        "plt.title('Curva de Aprendizaje')\n",
        "plt.xlabel('Tamaño del Conjunto de Entrenamiento')\n",
        "plt.ylabel('Accuracy')\n",
        "plt.legend()\n",
        "plt.grid()\n",
        "plt.show()\n"
      ]
    },
    {
      "cell_type": "markdown",
      "metadata": {
        "id": "hBdkkxy86WE4"
      },
      "source": [
        "## Conclusión final usando técnica de redes neuronales\n",
        "\n",
        "Durante el desarrollo del informe aplicamos las técnica de redes neuronales al problema de predicción de síntomas depresivos en estudiantes universitarios, utilizando un conjunto de datos con información sobre su salud, hábitos y estilo de vida. A lo largo del proceso, realizamos diferentes pruebas con arquitecturas de red, funciones de activación y valores del hiperparámetro alpha.\n",
        "\n",
        "El mejor rendimiento lo obtuvimos con una red neuronal de dos capas ocultas (100 y 50 neuronas), función de activación tanh, optimizador adam y un valor de alpha = 0.0001. Este modelo alcanzó una precisión del 78.52%, con un f1-score de 0.82 en la clase “Depresión”, lo que indica un buen equilibrio entre precisión y recall en la clase más crítica del problema. También se observó que este modelo logró una mejor capacidad de generalización que otras configuraciones evaluadas.\n",
        "\n",
        "En general, esta experiencia nos permitió a mi compañero y a mi no solo aplicar los conceptos vistos en clase, sino también comprender la importancia del ajuste de hiperparámetros y la validación cruzada para obtener modelos más robustos. Además, nos ayudó a interpretar métricas clave de evaluación y a reflexionar sobre el impacto que estos modelos pueden tener en el análisis de problemas reales relacionados con la salud mental actuamente.\n",
        "\n",
        "\n"
      ]
    }
  ],
  "metadata": {
    "colab": {
      "provenance": []
    },
    "kernelspec": {
      "display_name": "Python 3",
      "name": "python3"
    },
    "language_info": {
      "codemirror_mode": {
        "name": "ipython",
        "version": 3
      },
      "file_extension": ".py",
      "mimetype": "text/x-python",
      "name": "python",
      "nbconvert_exporter": "python",
      "pygments_lexer": "ipython3",
      "version": "3.13.5"
    }
  },
  "nbformat": 4,
  "nbformat_minor": 0
}
